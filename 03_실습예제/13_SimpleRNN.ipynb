{
 "cells": [
  {
   "cell_type": "code",
   "execution_count": 1,
   "id": "9c4ffc83",
   "metadata": {},
   "outputs": [],
   "source": [
    "import numpy as np\n",
    "from tensorflow.keras.preprocessing.text import Tokenizer\n",
    "from tensorflow.keras.preprocessing.sequence import pad_sequences\n",
    "from tensorflow.keras.utils import to_categorical\n",
    "from tensorflow.keras.models import Sequential\n",
    "from tensorflow.keras.layers import Embedding, Dense, SimpleRNN"
   ]
  },
  {
   "cell_type": "code",
   "execution_count": 2,
   "id": "0903c03b",
   "metadata": {},
   "outputs": [],
   "source": [
    "text = \"\"\"경마장에 있는 말이 뛰고 있다\\n\n",
    "그의 말이 법이다\\n\n",
    "가는 말이 고와야 오는 말이 곱다\\n\"\"\""
   ]
  },
  {
   "cell_type": "code",
   "execution_count": 3,
   "id": "5151b65e",
   "metadata": {},
   "outputs": [
    {
     "name": "stdout",
     "output_type": "stream",
     "text": [
      "단어 집합의 크기 : 12\n"
     ]
    }
   ],
   "source": [
    "tokenizer = Tokenizer()\n",
    "tokenizer.fit_on_texts([text])\n",
    "vocab_size = len(tokenizer.word_index) + 1\n",
    "print('단어 집합의 크기 : %d' % vocab_size)"
   ]
  },
  {
   "cell_type": "code",
   "execution_count": 4,
   "id": "e5bc4354",
   "metadata": {},
   "outputs": [
    {
     "name": "stdout",
     "output_type": "stream",
     "text": [
      "{'말이': 1, '경마장에': 2, '있는': 3, '뛰고': 4, '있다': 5, '그의': 6, '법이다': 7, '가는': 8, '고와야': 9, '오는': 10, '곱다': 11}\n"
     ]
    }
   ],
   "source": [
    "print(tokenizer.word_index)"
   ]
  },
  {
   "cell_type": "code",
   "execution_count": 5,
   "id": "b96ce0ed",
   "metadata": {},
   "outputs": [
    {
     "name": "stdout",
     "output_type": "stream",
     "text": [
      "학습에 사용할 샘플의 개수: 11\n"
     ]
    }
   ],
   "source": [
    "sequences = list()\n",
    "for line in text.split('\\n'): # 줄바꿈 문자를 기준으로 문장 토큰화\n",
    "    encoded = tokenizer.texts_to_sequences([line])[0]\n",
    "    for i in range(1, len(encoded)):\n",
    "        sequence = encoded[:i+1]\n",
    "        sequences.append(sequence)\n",
    "\n",
    "print('학습에 사용할 샘플의 개수: %d' % len(sequences))"
   ]
  },
  {
   "cell_type": "code",
   "execution_count": 6,
   "id": "15ebaac0",
   "metadata": {},
   "outputs": [
    {
     "name": "stdout",
     "output_type": "stream",
     "text": [
      "[[2, 3], [2, 3, 1], [2, 3, 1, 4], [2, 3, 1, 4, 5], [6, 1], [6, 1, 7], [8, 1], [8, 1, 9], [8, 1, 9, 10], [8, 1, 9, 10, 1], [8, 1, 9, 10, 1, 11]]\n"
     ]
    }
   ],
   "source": [
    "print(sequences)"
   ]
  },
  {
   "cell_type": "code",
   "execution_count": 7,
   "id": "d2719979",
   "metadata": {},
   "outputs": [
    {
     "name": "stdout",
     "output_type": "stream",
     "text": [
      "샘플의 최대 길이 : 6\n"
     ]
    }
   ],
   "source": [
    "max_len = max(len(l) for l in sequences) # 모든 샘플에서 길이가 가장 긴 샘플의 길이 출력\n",
    "print('샘플의 최대 길이 : {}'.format(max_len))"
   ]
  },
  {
   "cell_type": "code",
   "execution_count": 8,
   "id": "a0a9d4e1",
   "metadata": {},
   "outputs": [],
   "source": [
    "sequences = pad_sequences(sequences, maxlen=max_len, padding='pre')"
   ]
  },
  {
   "cell_type": "code",
   "execution_count": 9,
   "id": "4f9ce969",
   "metadata": {},
   "outputs": [
    {
     "name": "stdout",
     "output_type": "stream",
     "text": [
      "[[ 0  0  0  0  2  3]\n",
      " [ 0  0  0  2  3  1]\n",
      " [ 0  0  2  3  1  4]\n",
      " [ 0  2  3  1  4  5]\n",
      " [ 0  0  0  0  6  1]\n",
      " [ 0  0  0  6  1  7]\n",
      " [ 0  0  0  0  8  1]\n",
      " [ 0  0  0  8  1  9]\n",
      " [ 0  0  8  1  9 10]\n",
      " [ 0  8  1  9 10  1]\n",
      " [ 8  1  9 10  1 11]]\n"
     ]
    }
   ],
   "source": [
    "print(sequences)"
   ]
  },
  {
   "cell_type": "code",
   "execution_count": 10,
   "id": "bf192ea3",
   "metadata": {},
   "outputs": [],
   "source": [
    "sequences = np.array(sequences)\n",
    "X = sequences[:,:-1]\n",
    "y = sequences[:,-1]"
   ]
  },
  {
   "cell_type": "code",
   "execution_count": 11,
   "id": "69a20624",
   "metadata": {},
   "outputs": [
    {
     "name": "stdout",
     "output_type": "stream",
     "text": [
      "[[ 0  0  0  0  2]\n",
      " [ 0  0  0  2  3]\n",
      " [ 0  0  2  3  1]\n",
      " [ 0  2  3  1  4]\n",
      " [ 0  0  0  0  6]\n",
      " [ 0  0  0  6  1]\n",
      " [ 0  0  0  0  8]\n",
      " [ 0  0  0  8  1]\n",
      " [ 0  0  8  1  9]\n",
      " [ 0  8  1  9 10]\n",
      " [ 8  1  9 10  1]]\n"
     ]
    }
   ],
   "source": [
    "print(X)"
   ]
  },
  {
   "cell_type": "code",
   "execution_count": 12,
   "id": "62eaf5c1",
   "metadata": {},
   "outputs": [
    {
     "name": "stdout",
     "output_type": "stream",
     "text": [
      "[ 3  1  4  5  1  7  1  9 10  1 11]\n"
     ]
    }
   ],
   "source": [
    "print(y)"
   ]
  },
  {
   "cell_type": "code",
   "execution_count": 13,
   "id": "002a12b4",
   "metadata": {},
   "outputs": [],
   "source": [
    "y = to_categorical(y, num_classes=vocab_size)"
   ]
  },
  {
   "cell_type": "code",
   "execution_count": 14,
   "id": "b43582da",
   "metadata": {},
   "outputs": [
    {
     "name": "stdout",
     "output_type": "stream",
     "text": [
      "[[0. 0. 0. 1. 0. 0. 0. 0. 0. 0. 0. 0.]\n",
      " [0. 1. 0. 0. 0. 0. 0. 0. 0. 0. 0. 0.]\n",
      " [0. 0. 0. 0. 1. 0. 0. 0. 0. 0. 0. 0.]\n",
      " [0. 0. 0. 0. 0. 1. 0. 0. 0. 0. 0. 0.]\n",
      " [0. 1. 0. 0. 0. 0. 0. 0. 0. 0. 0. 0.]\n",
      " [0. 0. 0. 0. 0. 0. 0. 1. 0. 0. 0. 0.]\n",
      " [0. 1. 0. 0. 0. 0. 0. 0. 0. 0. 0. 0.]\n",
      " [0. 0. 0. 0. 0. 0. 0. 0. 0. 1. 0. 0.]\n",
      " [0. 0. 0. 0. 0. 0. 0. 0. 0. 0. 1. 0.]\n",
      " [0. 1. 0. 0. 0. 0. 0. 0. 0. 0. 0. 0.]\n",
      " [0. 0. 0. 0. 0. 0. 0. 0. 0. 0. 0. 1.]]\n"
     ]
    }
   ],
   "source": [
    "print(y)"
   ]
  },
  {
   "cell_type": "code",
   "execution_count": 21,
   "id": "dbf4db56",
   "metadata": {},
   "outputs": [
    {
     "name": "stdout",
     "output_type": "stream",
     "text": [
      "Epoch 1/200\n",
      "1/1 - 1s - loss: 2.4993 - accuracy: 0.0000e+00 - 512ms/epoch - 512ms/step\n",
      "Epoch 2/200\n",
      "1/1 - 0s - loss: 2.4873 - accuracy: 0.0000e+00 - 15ms/epoch - 15ms/step\n",
      "Epoch 3/200\n",
      "1/1 - 0s - loss: 2.4757 - accuracy: 0.0000e+00 - 13ms/epoch - 13ms/step\n",
      "Epoch 4/200\n",
      "1/1 - 0s - loss: 2.4642 - accuracy: 0.0909 - 14ms/epoch - 14ms/step\n",
      "Epoch 5/200\n",
      "1/1 - 0s - loss: 2.4529 - accuracy: 0.2727 - 13ms/epoch - 13ms/step\n",
      "Epoch 6/200\n",
      "1/1 - 0s - loss: 2.4416 - accuracy: 0.3636 - 13ms/epoch - 13ms/step\n",
      "Epoch 7/200\n",
      "1/1 - 0s - loss: 2.4302 - accuracy: 0.3636 - 13ms/epoch - 13ms/step\n",
      "Epoch 8/200\n",
      "1/1 - 0s - loss: 2.4185 - accuracy: 0.3636 - 12ms/epoch - 12ms/step\n",
      "Epoch 9/200\n",
      "1/1 - 0s - loss: 2.4066 - accuracy: 0.3636 - 12ms/epoch - 12ms/step\n",
      "Epoch 10/200\n",
      "1/1 - 0s - loss: 2.3943 - accuracy: 0.3636 - 12ms/epoch - 12ms/step\n",
      "Epoch 11/200\n",
      "1/1 - 0s - loss: 2.3815 - accuracy: 0.3636 - 13ms/epoch - 13ms/step\n",
      "Epoch 12/200\n",
      "1/1 - 0s - loss: 2.3683 - accuracy: 0.3636 - 17ms/epoch - 17ms/step\n",
      "Epoch 13/200\n",
      "1/1 - 0s - loss: 2.3545 - accuracy: 0.3636 - 14ms/epoch - 14ms/step\n",
      "Epoch 14/200\n",
      "1/1 - 0s - loss: 2.3400 - accuracy: 0.3636 - 13ms/epoch - 13ms/step\n",
      "Epoch 15/200\n",
      "1/1 - 0s - loss: 2.3248 - accuracy: 0.3636 - 13ms/epoch - 13ms/step\n",
      "Epoch 16/200\n",
      "1/1 - 0s - loss: 2.3089 - accuracy: 0.3636 - 13ms/epoch - 13ms/step\n",
      "Epoch 17/200\n",
      "1/1 - 0s - loss: 2.2922 - accuracy: 0.3636 - 13ms/epoch - 13ms/step\n",
      "Epoch 18/200\n",
      "1/1 - 0s - loss: 2.2746 - accuracy: 0.3636 - 12ms/epoch - 12ms/step\n",
      "Epoch 19/200\n",
      "1/1 - 0s - loss: 2.2562 - accuracy: 0.3636 - 12ms/epoch - 12ms/step\n",
      "Epoch 20/200\n",
      "1/1 - 0s - loss: 2.2368 - accuracy: 0.3636 - 13ms/epoch - 13ms/step\n",
      "Epoch 21/200\n",
      "1/1 - 0s - loss: 2.2165 - accuracy: 0.3636 - 14ms/epoch - 14ms/step\n",
      "Epoch 22/200\n",
      "1/1 - 0s - loss: 2.1954 - accuracy: 0.3636 - 13ms/epoch - 13ms/step\n",
      "Epoch 23/200\n",
      "1/1 - 0s - loss: 2.1733 - accuracy: 0.3636 - 12ms/epoch - 12ms/step\n",
      "Epoch 24/200\n",
      "1/1 - 0s - loss: 2.1505 - accuracy: 0.3636 - 13ms/epoch - 13ms/step\n",
      "Epoch 25/200\n",
      "1/1 - 0s - loss: 2.1270 - accuracy: 0.3636 - 12ms/epoch - 12ms/step\n",
      "Epoch 26/200\n",
      "1/1 - 0s - loss: 2.1029 - accuracy: 0.3636 - 13ms/epoch - 13ms/step\n",
      "Epoch 27/200\n",
      "1/1 - 0s - loss: 2.0785 - accuracy: 0.3636 - 13ms/epoch - 13ms/step\n",
      "Epoch 28/200\n",
      "1/1 - 0s - loss: 2.0538 - accuracy: 0.3636 - 14ms/epoch - 14ms/step\n",
      "Epoch 29/200\n",
      "1/1 - 0s - loss: 2.0293 - accuracy: 0.3636 - 13ms/epoch - 13ms/step\n",
      "Epoch 30/200\n",
      "1/1 - 0s - loss: 2.0051 - accuracy: 0.3636 - 13ms/epoch - 13ms/step\n",
      "Epoch 31/200\n",
      "1/1 - 0s - loss: 1.9815 - accuracy: 0.3636 - 12ms/epoch - 12ms/step\n",
      "Epoch 32/200\n",
      "1/1 - 0s - loss: 1.9587 - accuracy: 0.3636 - 14ms/epoch - 14ms/step\n",
      "Epoch 33/200\n",
      "1/1 - 0s - loss: 1.9369 - accuracy: 0.3636 - 13ms/epoch - 13ms/step\n",
      "Epoch 34/200\n",
      "1/1 - 0s - loss: 1.9162 - accuracy: 0.3636 - 13ms/epoch - 13ms/step\n",
      "Epoch 35/200\n",
      "1/1 - 0s - loss: 1.8965 - accuracy: 0.3636 - 13ms/epoch - 13ms/step\n",
      "Epoch 36/200\n",
      "1/1 - 0s - loss: 1.8777 - accuracy: 0.3636 - 12ms/epoch - 12ms/step\n",
      "Epoch 37/200\n",
      "1/1 - 0s - loss: 1.8595 - accuracy: 0.3636 - 13ms/epoch - 13ms/step\n",
      "Epoch 38/200\n",
      "1/1 - 0s - loss: 1.8416 - accuracy: 0.3636 - 12ms/epoch - 12ms/step\n",
      "Epoch 39/200\n",
      "1/1 - 0s - loss: 1.8238 - accuracy: 0.3636 - 13ms/epoch - 13ms/step\n",
      "Epoch 40/200\n",
      "1/1 - 0s - loss: 1.8057 - accuracy: 0.3636 - 13ms/epoch - 13ms/step\n",
      "Epoch 41/200\n",
      "1/1 - 0s - loss: 1.7873 - accuracy: 0.3636 - 14ms/epoch - 14ms/step\n",
      "Epoch 42/200\n",
      "1/1 - 0s - loss: 1.7683 - accuracy: 0.3636 - 12ms/epoch - 12ms/step\n",
      "Epoch 43/200\n",
      "1/1 - 0s - loss: 1.7488 - accuracy: 0.4545 - 13ms/epoch - 13ms/step\n",
      "Epoch 44/200\n",
      "1/1 - 0s - loss: 1.7287 - accuracy: 0.4545 - 14ms/epoch - 14ms/step\n",
      "Epoch 45/200\n",
      "1/1 - 0s - loss: 1.7083 - accuracy: 0.4545 - 13ms/epoch - 13ms/step\n",
      "Epoch 46/200\n",
      "1/1 - 0s - loss: 1.6875 - accuracy: 0.4545 - 13ms/epoch - 13ms/step\n",
      "Epoch 47/200\n",
      "1/1 - 0s - loss: 1.6664 - accuracy: 0.4545 - 12ms/epoch - 12ms/step\n",
      "Epoch 48/200\n",
      "1/1 - 0s - loss: 1.6450 - accuracy: 0.4545 - 13ms/epoch - 13ms/step\n",
      "Epoch 49/200\n",
      "1/1 - 0s - loss: 1.6234 - accuracy: 0.4545 - 12ms/epoch - 12ms/step\n",
      "Epoch 50/200\n",
      "1/1 - 0s - loss: 1.6017 - accuracy: 0.4545 - 13ms/epoch - 13ms/step\n",
      "Epoch 51/200\n",
      "1/1 - 0s - loss: 1.5796 - accuracy: 0.4545 - 13ms/epoch - 13ms/step\n",
      "Epoch 52/200\n",
      "1/1 - 0s - loss: 1.5574 - accuracy: 0.4545 - 13ms/epoch - 13ms/step\n",
      "Epoch 53/200\n",
      "1/1 - 0s - loss: 1.5349 - accuracy: 0.4545 - 13ms/epoch - 13ms/step\n",
      "Epoch 54/200\n",
      "1/1 - 0s - loss: 1.5123 - accuracy: 0.5455 - 12ms/epoch - 12ms/step\n",
      "Epoch 55/200\n",
      "1/1 - 0s - loss: 1.4895 - accuracy: 0.5455 - 14ms/epoch - 14ms/step\n",
      "Epoch 56/200\n",
      "1/1 - 0s - loss: 1.4668 - accuracy: 0.5455 - 13ms/epoch - 13ms/step\n",
      "Epoch 57/200\n",
      "1/1 - 0s - loss: 1.4440 - accuracy: 0.5455 - 12ms/epoch - 12ms/step\n",
      "Epoch 58/200\n",
      "1/1 - 0s - loss: 1.4214 - accuracy: 0.5455 - 12ms/epoch - 12ms/step\n",
      "Epoch 59/200\n",
      "1/1 - 0s - loss: 1.3991 - accuracy: 0.5455 - 13ms/epoch - 13ms/step\n",
      "Epoch 60/200\n",
      "1/1 - 0s - loss: 1.3770 - accuracy: 0.6364 - 13ms/epoch - 13ms/step\n",
      "Epoch 61/200\n",
      "1/1 - 0s - loss: 1.3553 - accuracy: 0.6364 - 13ms/epoch - 13ms/step\n",
      "Epoch 62/200\n",
      "1/1 - 0s - loss: 1.3341 - accuracy: 0.6364 - 12ms/epoch - 12ms/step\n",
      "Epoch 63/200\n",
      "1/1 - 0s - loss: 1.3132 - accuracy: 0.6364 - 13ms/epoch - 13ms/step\n",
      "Epoch 64/200\n",
      "1/1 - 0s - loss: 1.2928 - accuracy: 0.6364 - 12ms/epoch - 12ms/step\n",
      "Epoch 65/200\n",
      "1/1 - 0s - loss: 1.2729 - accuracy: 0.6364 - 12ms/epoch - 12ms/step\n",
      "Epoch 66/200\n",
      "1/1 - 0s - loss: 1.2534 - accuracy: 0.6364 - 13ms/epoch - 13ms/step\n",
      "Epoch 67/200\n",
      "1/1 - 0s - loss: 1.2344 - accuracy: 0.6364 - 12ms/epoch - 12ms/step\n",
      "Epoch 68/200\n",
      "1/1 - 0s - loss: 1.2159 - accuracy: 0.6364 - 12ms/epoch - 12ms/step\n",
      "Epoch 69/200\n",
      "1/1 - 0s - loss: 1.1978 - accuracy: 0.6364 - 13ms/epoch - 13ms/step\n",
      "Epoch 70/200\n",
      "1/1 - 0s - loss: 1.1801 - accuracy: 0.6364 - 12ms/epoch - 12ms/step\n",
      "Epoch 71/200\n",
      "1/1 - 0s - loss: 1.1629 - accuracy: 0.6364 - 14ms/epoch - 14ms/step\n",
      "Epoch 72/200\n",
      "1/1 - 0s - loss: 1.1461 - accuracy: 0.6364 - 14ms/epoch - 14ms/step\n",
      "Epoch 73/200\n",
      "1/1 - 0s - loss: 1.1297 - accuracy: 0.6364 - 13ms/epoch - 13ms/step\n",
      "Epoch 74/200\n",
      "1/1 - 0s - loss: 1.1137 - accuracy: 0.6364 - 14ms/epoch - 14ms/step\n",
      "Epoch 75/200\n",
      "1/1 - 0s - loss: 1.0980 - accuracy: 0.6364 - 13ms/epoch - 13ms/step\n",
      "Epoch 76/200\n",
      "1/1 - 0s - loss: 1.0827 - accuracy: 0.6364 - 12ms/epoch - 12ms/step\n",
      "Epoch 77/200\n",
      "1/1 - 0s - loss: 1.0677 - accuracy: 0.6364 - 12ms/epoch - 12ms/step\n",
      "Epoch 78/200\n",
      "1/1 - 0s - loss: 1.0531 - accuracy: 0.7273 - 13ms/epoch - 13ms/step\n",
      "Epoch 79/200\n",
      "1/1 - 0s - loss: 1.0387 - accuracy: 0.7273 - 12ms/epoch - 12ms/step\n",
      "Epoch 80/200\n",
      "1/1 - 0s - loss: 1.0247 - accuracy: 0.7273 - 16ms/epoch - 16ms/step\n",
      "Epoch 81/200\n",
      "1/1 - 0s - loss: 1.0110 - accuracy: 0.7273 - 11ms/epoch - 11ms/step\n",
      "Epoch 82/200\n",
      "1/1 - 0s - loss: 0.9976 - accuracy: 0.7273 - 13ms/epoch - 13ms/step\n",
      "Epoch 83/200\n",
      "1/1 - 0s - loss: 0.9844 - accuracy: 0.7273 - 12ms/epoch - 12ms/step\n",
      "Epoch 84/200\n",
      "1/1 - 0s - loss: 0.9716 - accuracy: 0.7273 - 12ms/epoch - 12ms/step\n",
      "Epoch 85/200\n",
      "1/1 - 0s - loss: 0.9590 - accuracy: 0.7273 - 13ms/epoch - 13ms/step\n",
      "Epoch 86/200\n",
      "1/1 - 0s - loss: 0.9466 - accuracy: 0.7273 - 13ms/epoch - 13ms/step\n",
      "Epoch 87/200\n",
      "1/1 - 0s - loss: 0.9346 - accuracy: 0.7273 - 13ms/epoch - 13ms/step\n",
      "Epoch 88/200\n",
      "1/1 - 0s - loss: 0.9227 - accuracy: 0.7273 - 13ms/epoch - 13ms/step\n",
      "Epoch 89/200\n",
      "1/1 - 0s - loss: 0.9111 - accuracy: 0.7273 - 12ms/epoch - 12ms/step\n",
      "Epoch 90/200\n",
      "1/1 - 0s - loss: 0.8996 - accuracy: 0.7273 - 13ms/epoch - 13ms/step\n",
      "Epoch 91/200\n",
      "1/1 - 0s - loss: 0.8884 - accuracy: 0.7273 - 13ms/epoch - 13ms/step\n",
      "Epoch 92/200\n",
      "1/1 - 0s - loss: 0.8773 - accuracy: 0.7273 - 12ms/epoch - 12ms/step\n",
      "Epoch 93/200\n",
      "1/1 - 0s - loss: 0.8665 - accuracy: 0.7273 - 12ms/epoch - 12ms/step\n",
      "Epoch 94/200\n",
      "1/1 - 0s - loss: 0.8557 - accuracy: 0.7273 - 13ms/epoch - 13ms/step\n",
      "Epoch 95/200\n",
      "1/1 - 0s - loss: 0.8452 - accuracy: 0.7273 - 13ms/epoch - 13ms/step\n",
      "Epoch 96/200\n",
      "1/1 - 0s - loss: 0.8348 - accuracy: 0.7273 - 13ms/epoch - 13ms/step\n",
      "Epoch 97/200\n",
      "1/1 - 0s - loss: 0.8246 - accuracy: 0.7273 - 12ms/epoch - 12ms/step\n",
      "Epoch 98/200\n",
      "1/1 - 0s - loss: 0.8145 - accuracy: 0.7273 - 14ms/epoch - 14ms/step\n",
      "Epoch 99/200\n",
      "1/1 - 0s - loss: 0.8046 - accuracy: 0.7273 - 12ms/epoch - 12ms/step\n",
      "Epoch 100/200\n",
      "1/1 - 0s - loss: 0.7948 - accuracy: 0.7273 - 12ms/epoch - 12ms/step\n",
      "Epoch 101/200\n",
      "1/1 - 0s - loss: 0.7852 - accuracy: 0.7273 - 16ms/epoch - 16ms/step\n",
      "Epoch 102/200\n"
     ]
    },
    {
     "name": "stdout",
     "output_type": "stream",
     "text": [
      "1/1 - 0s - loss: 0.7757 - accuracy: 0.7273 - 15ms/epoch - 15ms/step\n",
      "Epoch 103/200\n",
      "1/1 - 0s - loss: 0.7664 - accuracy: 0.7273 - 15ms/epoch - 15ms/step\n",
      "Epoch 104/200\n",
      "1/1 - 0s - loss: 0.7572 - accuracy: 0.7273 - 13ms/epoch - 13ms/step\n",
      "Epoch 105/200\n",
      "1/1 - 0s - loss: 0.7481 - accuracy: 0.7273 - 13ms/epoch - 13ms/step\n",
      "Epoch 106/200\n",
      "1/1 - 0s - loss: 0.7391 - accuracy: 0.7273 - 12ms/epoch - 12ms/step\n",
      "Epoch 107/200\n",
      "1/1 - 0s - loss: 0.7302 - accuracy: 0.7273 - 13ms/epoch - 13ms/step\n",
      "Epoch 108/200\n",
      "1/1 - 0s - loss: 0.7214 - accuracy: 0.7273 - 13ms/epoch - 13ms/step\n",
      "Epoch 109/200\n",
      "1/1 - 0s - loss: 0.7128 - accuracy: 0.7273 - 13ms/epoch - 13ms/step\n",
      "Epoch 110/200\n",
      "1/1 - 0s - loss: 0.7042 - accuracy: 0.7273 - 13ms/epoch - 13ms/step\n",
      "Epoch 111/200\n",
      "1/1 - 0s - loss: 0.6957 - accuracy: 0.7273 - 12ms/epoch - 12ms/step\n",
      "Epoch 112/200\n",
      "1/1 - 0s - loss: 0.6873 - accuracy: 0.7273 - 12ms/epoch - 12ms/step\n",
      "Epoch 113/200\n",
      "1/1 - 0s - loss: 0.6790 - accuracy: 0.7273 - 13ms/epoch - 13ms/step\n",
      "Epoch 114/200\n",
      "1/1 - 0s - loss: 0.6707 - accuracy: 0.7273 - 13ms/epoch - 13ms/step\n",
      "Epoch 115/200\n",
      "1/1 - 0s - loss: 0.6626 - accuracy: 0.7273 - 13ms/epoch - 13ms/step\n",
      "Epoch 116/200\n",
      "1/1 - 0s - loss: 0.6545 - accuracy: 0.7273 - 12ms/epoch - 12ms/step\n",
      "Epoch 117/200\n",
      "1/1 - 0s - loss: 0.6464 - accuracy: 0.7273 - 13ms/epoch - 13ms/step\n",
      "Epoch 118/200\n",
      "1/1 - 0s - loss: 0.6385 - accuracy: 0.7273 - 12ms/epoch - 12ms/step\n",
      "Epoch 119/200\n",
      "1/1 - 0s - loss: 0.6305 - accuracy: 0.7273 - 13ms/epoch - 13ms/step\n",
      "Epoch 120/200\n",
      "1/1 - 0s - loss: 0.6227 - accuracy: 0.7273 - 12ms/epoch - 12ms/step\n",
      "Epoch 121/200\n",
      "1/1 - 0s - loss: 0.6149 - accuracy: 0.8182 - 12ms/epoch - 12ms/step\n",
      "Epoch 122/200\n",
      "1/1 - 0s - loss: 0.6071 - accuracy: 0.8182 - 13ms/epoch - 13ms/step\n",
      "Epoch 123/200\n",
      "1/1 - 0s - loss: 0.5994 - accuracy: 0.8182 - 12ms/epoch - 12ms/step\n",
      "Epoch 124/200\n",
      "1/1 - 0s - loss: 0.5918 - accuracy: 0.8182 - 12ms/epoch - 12ms/step\n",
      "Epoch 125/200\n",
      "1/1 - 0s - loss: 0.5842 - accuracy: 0.8182 - 14ms/epoch - 14ms/step\n",
      "Epoch 126/200\n",
      "1/1 - 0s - loss: 0.5766 - accuracy: 0.8182 - 12ms/epoch - 12ms/step\n",
      "Epoch 127/200\n",
      "1/1 - 0s - loss: 0.5691 - accuracy: 0.8182 - 13ms/epoch - 13ms/step\n",
      "Epoch 128/200\n",
      "1/1 - 0s - loss: 0.5616 - accuracy: 0.8182 - 13ms/epoch - 13ms/step\n",
      "Epoch 129/200\n",
      "1/1 - 0s - loss: 0.5542 - accuracy: 0.8182 - 13ms/epoch - 13ms/step\n",
      "Epoch 130/200\n",
      "1/1 - 0s - loss: 0.5468 - accuracy: 0.8182 - 12ms/epoch - 12ms/step\n",
      "Epoch 131/200\n",
      "1/1 - 0s - loss: 0.5394 - accuracy: 0.9091 - 12ms/epoch - 12ms/step\n",
      "Epoch 132/200\n",
      "1/1 - 0s - loss: 0.5321 - accuracy: 0.9091 - 12ms/epoch - 12ms/step\n",
      "Epoch 133/200\n",
      "1/1 - 0s - loss: 0.5248 - accuracy: 0.9091 - 12ms/epoch - 12ms/step\n",
      "Epoch 134/200\n",
      "1/1 - 0s - loss: 0.5176 - accuracy: 0.9091 - 12ms/epoch - 12ms/step\n",
      "Epoch 135/200\n",
      "1/1 - 0s - loss: 0.5104 - accuracy: 0.9091 - 13ms/epoch - 13ms/step\n",
      "Epoch 136/200\n",
      "1/1 - 0s - loss: 0.5032 - accuracy: 0.9091 - 12ms/epoch - 12ms/step\n",
      "Epoch 137/200\n",
      "1/1 - 0s - loss: 0.4961 - accuracy: 0.9091 - 12ms/epoch - 12ms/step\n",
      "Epoch 138/200\n",
      "1/1 - 0s - loss: 0.4890 - accuracy: 0.9091 - 12ms/epoch - 12ms/step\n",
      "Epoch 139/200\n",
      "1/1 - 0s - loss: 0.4819 - accuracy: 0.9091 - 13ms/epoch - 13ms/step\n",
      "Epoch 140/200\n",
      "1/1 - 0s - loss: 0.4749 - accuracy: 0.9091 - 12ms/epoch - 12ms/step\n",
      "Epoch 141/200\n",
      "1/1 - 0s - loss: 0.4679 - accuracy: 0.9091 - 12ms/epoch - 12ms/step\n",
      "Epoch 142/200\n",
      "1/1 - 0s - loss: 0.4609 - accuracy: 0.9091 - 13ms/epoch - 13ms/step\n",
      "Epoch 143/200\n",
      "1/1 - 0s - loss: 0.4540 - accuracy: 0.9091 - 12ms/epoch - 12ms/step\n",
      "Epoch 144/200\n",
      "1/1 - 0s - loss: 0.4471 - accuracy: 0.9091 - 13ms/epoch - 13ms/step\n",
      "Epoch 145/200\n",
      "1/1 - 0s - loss: 0.4402 - accuracy: 0.9091 - 13ms/epoch - 13ms/step\n",
      "Epoch 146/200\n",
      "1/1 - 0s - loss: 0.4334 - accuracy: 0.9091 - 14ms/epoch - 14ms/step\n",
      "Epoch 147/200\n",
      "1/1 - 0s - loss: 0.4266 - accuracy: 0.9091 - 12ms/epoch - 12ms/step\n",
      "Epoch 148/200\n",
      "1/1 - 0s - loss: 0.4198 - accuracy: 0.9091 - 12ms/epoch - 12ms/step\n",
      "Epoch 149/200\n",
      "1/1 - 0s - loss: 0.4131 - accuracy: 0.9091 - 12ms/epoch - 12ms/step\n",
      "Epoch 150/200\n",
      "1/1 - 0s - loss: 0.4064 - accuracy: 0.9091 - 13ms/epoch - 13ms/step\n",
      "Epoch 151/200\n",
      "1/1 - 0s - loss: 0.3998 - accuracy: 0.9091 - 13ms/epoch - 13ms/step\n",
      "Epoch 152/200\n",
      "1/1 - 0s - loss: 0.3932 - accuracy: 0.9091 - 13ms/epoch - 13ms/step\n",
      "Epoch 153/200\n",
      "1/1 - 0s - loss: 0.3867 - accuracy: 0.9091 - 12ms/epoch - 12ms/step\n",
      "Epoch 154/200\n",
      "1/1 - 0s - loss: 0.3802 - accuracy: 0.9091 - 12ms/epoch - 12ms/step\n",
      "Epoch 155/200\n",
      "1/1 - 0s - loss: 0.3738 - accuracy: 0.9091 - 13ms/epoch - 13ms/step\n",
      "Epoch 156/200\n",
      "1/1 - 0s - loss: 0.3674 - accuracy: 0.9091 - 13ms/epoch - 13ms/step\n",
      "Epoch 157/200\n",
      "1/1 - 0s - loss: 0.3610 - accuracy: 0.9091 - 13ms/epoch - 13ms/step\n",
      "Epoch 158/200\n",
      "1/1 - 0s - loss: 0.3547 - accuracy: 0.9091 - 13ms/epoch - 13ms/step\n",
      "Epoch 159/200\n",
      "1/1 - 0s - loss: 0.3485 - accuracy: 0.9091 - 12ms/epoch - 12ms/step\n",
      "Epoch 160/200\n",
      "1/1 - 0s - loss: 0.3424 - accuracy: 0.9091 - 12ms/epoch - 12ms/step\n",
      "Epoch 161/200\n",
      "1/1 - 0s - loss: 0.3363 - accuracy: 0.9091 - 14ms/epoch - 14ms/step\n",
      "Epoch 162/200\n",
      "1/1 - 0s - loss: 0.3302 - accuracy: 0.9091 - 13ms/epoch - 13ms/step\n",
      "Epoch 163/200\n",
      "1/1 - 0s - loss: 0.3243 - accuracy: 0.9091 - 13ms/epoch - 13ms/step\n",
      "Epoch 164/200\n",
      "1/1 - 0s - loss: 0.3184 - accuracy: 0.9091 - 13ms/epoch - 13ms/step\n",
      "Epoch 165/200\n",
      "1/1 - 0s - loss: 0.3125 - accuracy: 0.9091 - 12ms/epoch - 12ms/step\n",
      "Epoch 166/200\n",
      "1/1 - 0s - loss: 0.3068 - accuracy: 0.9091 - 13ms/epoch - 13ms/step\n",
      "Epoch 167/200\n",
      "1/1 - 0s - loss: 0.3011 - accuracy: 0.9091 - 12ms/epoch - 12ms/step\n",
      "Epoch 168/200\n",
      "1/1 - 0s - loss: 0.2955 - accuracy: 0.9091 - 11ms/epoch - 11ms/step\n",
      "Epoch 169/200\n",
      "1/1 - 0s - loss: 0.2900 - accuracy: 0.9091 - 13ms/epoch - 13ms/step\n",
      "Epoch 170/200\n",
      "1/1 - 0s - loss: 0.2845 - accuracy: 0.9091 - 12ms/epoch - 12ms/step\n",
      "Epoch 171/200\n",
      "1/1 - 0s - loss: 0.2792 - accuracy: 0.9091 - 13ms/epoch - 13ms/step\n",
      "Epoch 172/200\n",
      "1/1 - 0s - loss: 0.2739 - accuracy: 0.9091 - 13ms/epoch - 13ms/step\n",
      "Epoch 173/200\n",
      "1/1 - 0s - loss: 0.2687 - accuracy: 0.9091 - 12ms/epoch - 12ms/step\n",
      "Epoch 174/200\n",
      "1/1 - 0s - loss: 0.2636 - accuracy: 1.0000 - 12ms/epoch - 12ms/step\n",
      "Epoch 175/200\n",
      "1/1 - 0s - loss: 0.2586 - accuracy: 1.0000 - 14ms/epoch - 14ms/step\n",
      "Epoch 176/200\n",
      "1/1 - 0s - loss: 0.2536 - accuracy: 1.0000 - 12ms/epoch - 12ms/step\n",
      "Epoch 177/200\n",
      "1/1 - 0s - loss: 0.2488 - accuracy: 1.0000 - 13ms/epoch - 13ms/step\n",
      "Epoch 178/200\n",
      "1/1 - 0s - loss: 0.2440 - accuracy: 1.0000 - 12ms/epoch - 12ms/step\n",
      "Epoch 179/200\n",
      "1/1 - 0s - loss: 0.2393 - accuracy: 1.0000 - 12ms/epoch - 12ms/step\n",
      "Epoch 180/200\n",
      "1/1 - 0s - loss: 0.2348 - accuracy: 1.0000 - 13ms/epoch - 13ms/step\n",
      "Epoch 181/200\n",
      "1/1 - 0s - loss: 0.2302 - accuracy: 1.0000 - 12ms/epoch - 12ms/step\n",
      "Epoch 182/200\n",
      "1/1 - 0s - loss: 0.2258 - accuracy: 1.0000 - 12ms/epoch - 12ms/step\n",
      "Epoch 183/200\n",
      "1/1 - 0s - loss: 0.2215 - accuracy: 1.0000 - 12ms/epoch - 12ms/step\n",
      "Epoch 184/200\n",
      "1/1 - 0s - loss: 0.2172 - accuracy: 1.0000 - 12ms/epoch - 12ms/step\n",
      "Epoch 185/200\n",
      "1/1 - 0s - loss: 0.2131 - accuracy: 1.0000 - 13ms/epoch - 13ms/step\n",
      "Epoch 186/200\n",
      "1/1 - 0s - loss: 0.2090 - accuracy: 1.0000 - 13ms/epoch - 13ms/step\n",
      "Epoch 187/200\n",
      "1/1 - 0s - loss: 0.2050 - accuracy: 1.0000 - 14ms/epoch - 14ms/step\n",
      "Epoch 188/200\n",
      "1/1 - 0s - loss: 0.2011 - accuracy: 1.0000 - 13ms/epoch - 13ms/step\n",
      "Epoch 189/200\n",
      "1/1 - 0s - loss: 0.1973 - accuracy: 1.0000 - 13ms/epoch - 13ms/step\n",
      "Epoch 190/200\n",
      "1/1 - 0s - loss: 0.1935 - accuracy: 1.0000 - 12ms/epoch - 12ms/step\n",
      "Epoch 191/200\n",
      "1/1 - 0s - loss: 0.1898 - accuracy: 1.0000 - 13ms/epoch - 13ms/step\n",
      "Epoch 192/200\n",
      "1/1 - 0s - loss: 0.1862 - accuracy: 1.0000 - 12ms/epoch - 12ms/step\n",
      "Epoch 193/200\n",
      "1/1 - 0s - loss: 0.1827 - accuracy: 1.0000 - 12ms/epoch - 12ms/step\n",
      "Epoch 194/200\n",
      "1/1 - 0s - loss: 0.1793 - accuracy: 1.0000 - 13ms/epoch - 13ms/step\n",
      "Epoch 195/200\n",
      "1/1 - 0s - loss: 0.1759 - accuracy: 1.0000 - 12ms/epoch - 12ms/step\n",
      "Epoch 196/200\n",
      "1/1 - 0s - loss: 0.1726 - accuracy: 1.0000 - 12ms/epoch - 12ms/step\n",
      "Epoch 197/200\n",
      "1/1 - 0s - loss: 0.1694 - accuracy: 1.0000 - 13ms/epoch - 13ms/step\n",
      "Epoch 198/200\n",
      "1/1 - 0s - loss: 0.1662 - accuracy: 1.0000 - 12ms/epoch - 12ms/step\n",
      "Epoch 199/200\n",
      "1/1 - 0s - loss: 0.1631 - accuracy: 1.0000 - 12ms/epoch - 12ms/step\n",
      "Epoch 200/200\n",
      "1/1 - 0s - loss: 0.1601 - accuracy: 1.0000 - 12ms/epoch - 12ms/step\n"
     ]
    },
    {
     "data": {
      "text/plain": [
       "<keras.callbacks.History at 0x2026b8094c8>"
      ]
     },
     "execution_count": 21,
     "metadata": {},
     "output_type": "execute_result"
    }
   ],
   "source": [
    "embedding_dim = 10\n",
    "hidden_units = 32\n",
    "\n",
    "model = Sequential()\n",
    "model.add(Embedding(vocab_size, embedding_dim))\n",
    "model.add(SimpleRNN(hidden_units))\n",
    "model.add(Dense(vocab_size, activation='softmax'))\n",
    "model.compile(loss='categorical_crossentropy', optimizer='adam', metrics=['accuracy'])\n",
    "model.fit(X, y, epochs=200, verbose=2)"
   ]
  },
  {
   "cell_type": "code",
   "execution_count": 22,
   "id": "af984c59",
   "metadata": {},
   "outputs": [],
   "source": [
    "def sentence_generation(model, tokenizer, current_word, n): # 모델, 토크나이저, 현재 단어, 반복할 횟수\n",
    "    init_word = current_word\n",
    "    sentence = ''\n",
    "\n",
    "    # n번 반복\n",
    "    for _ in range(n):\n",
    "        # 현재 단어에 대한 정수 인코딩과 패딩\n",
    "        encoded = tokenizer.texts_to_sequences([current_word])[0]\n",
    "        encoded = pad_sequences([encoded], maxlen=5, padding='pre')\n",
    "        # 입력한 X(현재 단어)에 대해서 Y를 예측하고 Y(예측한 단어)를 result에 저장.\n",
    "        result = model.predict(encoded, verbose=0)\n",
    "        result = np.argmax(result, axis=1)\n",
    "\n",
    "        for word, index in tokenizer.word_index.items(): \n",
    "            # 만약 예측한 단어와 인덱스와 동일한 단어가 있다면 break\n",
    "            if index == result:\n",
    "                break\n",
    "\n",
    "        # 현재 단어 + ' ' + 예측 단어를 현재 단어로 변경\n",
    "        current_word = current_word + ' '  + word\n",
    "\n",
    "        # 예측 단어를 문장에 저장\n",
    "        sentence = sentence + ' ' + word\n",
    "\n",
    "    sentence = init_word + sentence\n",
    "    return sentence"
   ]
  },
  {
   "cell_type": "code",
   "execution_count": 23,
   "id": "07242ea4",
   "metadata": {},
   "outputs": [
    {
     "name": "stdout",
     "output_type": "stream",
     "text": [
      "경마장에 있는 말이 뛰고 있다\n"
     ]
    }
   ],
   "source": [
    "print(sentence_generation(model, tokenizer, '경마장에', 4))"
   ]
  },
  {
   "cell_type": "code",
   "execution_count": 24,
   "id": "bc9a065b",
   "metadata": {},
   "outputs": [
    {
     "name": "stdout",
     "output_type": "stream",
     "text": [
      "그의 말이 법이다\n"
     ]
    }
   ],
   "source": [
    "print(sentence_generation(model, tokenizer, '그의', 2))"
   ]
  },
  {
   "cell_type": "code",
   "execution_count": 25,
   "id": "79fe858d",
   "metadata": {},
   "outputs": [
    {
     "name": "stdout",
     "output_type": "stream",
     "text": [
      "가는 말이 고와야 오는 말이 곱다\n"
     ]
    }
   ],
   "source": [
    "print(sentence_generation(model, tokenizer, '가는', 5))"
   ]
  },
  {
   "cell_type": "code",
   "execution_count": null,
   "id": "8fcd79cb",
   "metadata": {},
   "outputs": [],
   "source": []
  }
 ],
 "metadata": {
  "kernelspec": {
   "display_name": "tensorflowPy37",
   "language": "python",
   "name": "tensorflowpy37"
  },
  "language_info": {
   "codemirror_mode": {
    "name": "ipython",
    "version": 3
   },
   "file_extension": ".py",
   "mimetype": "text/x-python",
   "name": "python",
   "nbconvert_exporter": "python",
   "pygments_lexer": "ipython3",
   "version": "3.7.13"
  }
 },
 "nbformat": 4,
 "nbformat_minor": 5
}
