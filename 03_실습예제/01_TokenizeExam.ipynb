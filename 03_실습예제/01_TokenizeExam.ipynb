{
 "cells": [
  {
   "cell_type": "code",
   "execution_count": 1,
   "id": "51262193",
   "metadata": {},
   "outputs": [
    {
     "name": "stdout",
     "output_type": "stream",
     "text": [
      "OKT 형태소 분석 : ['제', '이름', '은', '똑바로', '읽어도', '거꾸로', '읽어도', '우영', '우', '입니다']\n",
      "OKT 품사 태깅 : [('제', 'Noun'), ('이름', 'Noun'), ('은', 'Josa'), ('똑바로', 'Noun'), ('읽어도', 'Verb'), ('거꾸로', 'Noun'), ('읽어도', 'Verb'), ('우영', 'Noun'), ('우', 'Adverb'), ('입니다', 'Adjective')]\n",
      "OKT 명사 추출 : ['제', '이름', '똑바로', '거꾸로', '우영']\n"
     ]
    }
   ],
   "source": [
    "from konlpy.tag import Okt\n",
    "from konlpy.tag import Kkma\n",
    "\n",
    "okt = Okt()\n",
    "kkma = Kkma()\n",
    "\n",
    "print('OKT 형태소 분석 :',okt.morphs(\"제 이름은 똑바로 읽어도 거꾸로 읽어도 우영우입니다\"))\n",
    "print('OKT 품사 태깅 :',okt.pos(\"제 이름은 똑바로 읽어도 거꾸로 읽어도 우영우입니다\"))\n",
    "print('OKT 명사 추출 :',okt.nouns(\"제 이름은 똑바로 읽어도 거꾸로 읽어도 우영우입니다\")) "
   ]
  },
  {
   "cell_type": "code",
   "execution_count": 2,
   "id": "e4c82bde",
   "metadata": {},
   "outputs": [
    {
     "name": "stdout",
     "output_type": "stream",
     "text": [
      "꼬꼬마 형태소 분석 : ['저', '의', '이름', '은', '똑바로', '읽', '어도', '거꾸로', '읽', '어도', '우영', '우', '이', 'ㅂ니다']\n",
      "꼬꼬마 품사 태깅 : [('저', 'NP'), ('의', 'JKG'), ('이름', 'NNG'), ('은', 'JX'), ('똑바로', 'MAG'), ('읽', 'VV'), ('어도', 'ECD'), ('거꾸로', 'MAG'), ('읽', 'VV'), ('어도', 'ECD'), ('우영', 'NNP'), ('우', 'XSN'), ('이', 'VCP'), ('ㅂ니다', 'EFN')]\n",
      "꼬꼬마 명사 추출 : ['저', '이름', '우영']\n"
     ]
    }
   ],
   "source": [
    "print('꼬꼬마 형태소 분석 :',kkma.morphs(\"제 이름은 똑바로 읽어도 거꾸로 읽어도 우영우입니다\"))\n",
    "print('꼬꼬마 품사 태깅 :',kkma.pos(\"제 이름은 똑바로 읽어도 거꾸로 읽어도 우영우입니다\"))\n",
    "print('꼬꼬마 명사 추출 :',kkma.nouns(\"제 이름은 똑바로 읽어도 거꾸로 읽어도 우영우입니다\")) "
   ]
  },
  {
   "cell_type": "code",
   "execution_count": null,
   "id": "ecb0edcb",
   "metadata": {},
   "outputs": [],
   "source": []
  }
 ],
 "metadata": {
  "kernelspec": {
   "display_name": "tensorflowPy37",
   "language": "python",
   "name": "tensorflowpy37"
  },
  "language_info": {
   "codemirror_mode": {
    "name": "ipython",
    "version": 3
   },
   "file_extension": ".py",
   "mimetype": "text/x-python",
   "name": "python",
   "nbconvert_exporter": "python",
   "pygments_lexer": "ipython3",
   "version": "3.7.13"
  }
 },
 "nbformat": 4,
 "nbformat_minor": 5
}
