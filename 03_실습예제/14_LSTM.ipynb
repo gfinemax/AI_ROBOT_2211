{
 "cells": [
  {
   "cell_type": "code",
   "execution_count": 1,
   "id": "8794b96d",
   "metadata": {},
   "outputs": [],
   "source": [
    "import pandas as pd\n",
    "import numpy as np\n",
    "from string import punctuation\n",
    "\n",
    "from tensorflow.keras.preprocessing.text import Tokenizer\n",
    "from tensorflow.keras.preprocessing.sequence import pad_sequences\n",
    "from tensorflow.keras.utils import to_categorical\n",
    "from tensorflow.keras.models import Sequential\n",
    "from tensorflow.keras.layers import Embedding, Dense, LSTM"
   ]
  },
  {
   "cell_type": "code",
   "execution_count": 2,
   "id": "6b55f049",
   "metadata": {},
   "outputs": [
    {
     "data": {
      "text/html": [
       "<div>\n",
       "<style scoped>\n",
       "    .dataframe tbody tr th:only-of-type {\n",
       "        vertical-align: middle;\n",
       "    }\n",
       "\n",
       "    .dataframe tbody tr th {\n",
       "        vertical-align: top;\n",
       "    }\n",
       "\n",
       "    .dataframe thead th {\n",
       "        text-align: right;\n",
       "    }\n",
       "</style>\n",
       "<table border=\"1\" class=\"dataframe\">\n",
       "  <thead>\n",
       "    <tr style=\"text-align: right;\">\n",
       "      <th></th>\n",
       "      <th>articleID</th>\n",
       "      <th>articleWordCount</th>\n",
       "      <th>byline</th>\n",
       "      <th>documentType</th>\n",
       "      <th>headline</th>\n",
       "      <th>keywords</th>\n",
       "      <th>multimedia</th>\n",
       "      <th>newDesk</th>\n",
       "      <th>printPage</th>\n",
       "      <th>pubDate</th>\n",
       "      <th>sectionName</th>\n",
       "      <th>snippet</th>\n",
       "      <th>source</th>\n",
       "      <th>typeOfMaterial</th>\n",
       "      <th>webURL</th>\n",
       "    </tr>\n",
       "  </thead>\n",
       "  <tbody>\n",
       "    <tr>\n",
       "      <th>0</th>\n",
       "      <td>5adf6684068401528a2aa69b</td>\n",
       "      <td>781</td>\n",
       "      <td>By JOHN BRANCH</td>\n",
       "      <td>article</td>\n",
       "      <td>Former N.F.L. Cheerleaders’ Settlement Offer: ...</td>\n",
       "      <td>['Workplace Hazards and Violations', 'Football...</td>\n",
       "      <td>68</td>\n",
       "      <td>Sports</td>\n",
       "      <td>0</td>\n",
       "      <td>2018-04-24 17:16:49</td>\n",
       "      <td>Pro Football</td>\n",
       "      <td>“I understand that they could meet with us, pa...</td>\n",
       "      <td>The New York Times</td>\n",
       "      <td>News</td>\n",
       "      <td>https://www.nytimes.com/2018/04/24/sports/foot...</td>\n",
       "    </tr>\n",
       "    <tr>\n",
       "      <th>1</th>\n",
       "      <td>5adf653f068401528a2aa697</td>\n",
       "      <td>656</td>\n",
       "      <td>By LISA FRIEDMAN</td>\n",
       "      <td>article</td>\n",
       "      <td>E.P.A. to Unveil a New Rule. Its Effect: Less ...</td>\n",
       "      <td>['Environmental Protection Agency', 'Pruitt, S...</td>\n",
       "      <td>68</td>\n",
       "      <td>Climate</td>\n",
       "      <td>0</td>\n",
       "      <td>2018-04-24 17:11:21</td>\n",
       "      <td>Unknown</td>\n",
       "      <td>The agency plans to publish a new regulation T...</td>\n",
       "      <td>The New York Times</td>\n",
       "      <td>News</td>\n",
       "      <td>https://www.nytimes.com/2018/04/24/climate/epa...</td>\n",
       "    </tr>\n",
       "    <tr>\n",
       "      <th>2</th>\n",
       "      <td>5adf4626068401528a2aa628</td>\n",
       "      <td>2427</td>\n",
       "      <td>By PETE WELLS</td>\n",
       "      <td>article</td>\n",
       "      <td>The New Noma, Explained</td>\n",
       "      <td>['Restaurants', 'Noma (Copenhagen, Restaurant)...</td>\n",
       "      <td>66</td>\n",
       "      <td>Dining</td>\n",
       "      <td>0</td>\n",
       "      <td>2018-04-24 14:58:44</td>\n",
       "      <td>Unknown</td>\n",
       "      <td>What’s it like to eat at the second incarnatio...</td>\n",
       "      <td>The New York Times</td>\n",
       "      <td>News</td>\n",
       "      <td>https://www.nytimes.com/2018/04/24/dining/noma...</td>\n",
       "    </tr>\n",
       "    <tr>\n",
       "      <th>3</th>\n",
       "      <td>5adf40d2068401528a2aa619</td>\n",
       "      <td>626</td>\n",
       "      <td>By JULIE HIRSCHFELD DAVIS and PETER BAKER</td>\n",
       "      <td>article</td>\n",
       "      <td>Unknown</td>\n",
       "      <td>['Macron, Emmanuel (1977- )', 'Trump, Donald J...</td>\n",
       "      <td>68</td>\n",
       "      <td>Washington</td>\n",
       "      <td>0</td>\n",
       "      <td>2018-04-24 14:35:57</td>\n",
       "      <td>Europe</td>\n",
       "      <td>President Trump welcomed President Emmanuel Ma...</td>\n",
       "      <td>The New York Times</td>\n",
       "      <td>News</td>\n",
       "      <td>https://www.nytimes.com/2018/04/24/world/europ...</td>\n",
       "    </tr>\n",
       "    <tr>\n",
       "      <th>4</th>\n",
       "      <td>5adf3d64068401528a2aa60f</td>\n",
       "      <td>815</td>\n",
       "      <td>By IAN AUSTEN and DAN BILEFSKY</td>\n",
       "      <td>article</td>\n",
       "      <td>Unknown</td>\n",
       "      <td>['Toronto, Ontario, Attack (April, 2018)', 'Mu...</td>\n",
       "      <td>68</td>\n",
       "      <td>Foreign</td>\n",
       "      <td>0</td>\n",
       "      <td>2018-04-24 14:21:21</td>\n",
       "      <td>Canada</td>\n",
       "      <td>Alek Minassian, 25, a resident of Toronto’s Ri...</td>\n",
       "      <td>The New York Times</td>\n",
       "      <td>News</td>\n",
       "      <td>https://www.nytimes.com/2018/04/24/world/canad...</td>\n",
       "    </tr>\n",
       "  </tbody>\n",
       "</table>\n",
       "</div>"
      ],
      "text/plain": [
       "                  articleID  articleWordCount  \\\n",
       "0  5adf6684068401528a2aa69b               781   \n",
       "1  5adf653f068401528a2aa697               656   \n",
       "2  5adf4626068401528a2aa628              2427   \n",
       "3  5adf40d2068401528a2aa619               626   \n",
       "4  5adf3d64068401528a2aa60f               815   \n",
       "\n",
       "                                      byline documentType  \\\n",
       "0                             By JOHN BRANCH      article   \n",
       "1                           By LISA FRIEDMAN      article   \n",
       "2                              By PETE WELLS      article   \n",
       "3  By JULIE HIRSCHFELD DAVIS and PETER BAKER      article   \n",
       "4             By IAN AUSTEN and DAN BILEFSKY      article   \n",
       "\n",
       "                                            headline  \\\n",
       "0  Former N.F.L. Cheerleaders’ Settlement Offer: ...   \n",
       "1  E.P.A. to Unveil a New Rule. Its Effect: Less ...   \n",
       "2                            The New Noma, Explained   \n",
       "3                                            Unknown   \n",
       "4                                            Unknown   \n",
       "\n",
       "                                            keywords  multimedia     newDesk  \\\n",
       "0  ['Workplace Hazards and Violations', 'Football...          68      Sports   \n",
       "1  ['Environmental Protection Agency', 'Pruitt, S...          68     Climate   \n",
       "2  ['Restaurants', 'Noma (Copenhagen, Restaurant)...          66      Dining   \n",
       "3  ['Macron, Emmanuel (1977- )', 'Trump, Donald J...          68  Washington   \n",
       "4  ['Toronto, Ontario, Attack (April, 2018)', 'Mu...          68     Foreign   \n",
       "\n",
       "   printPage              pubDate   sectionName  \\\n",
       "0          0  2018-04-24 17:16:49  Pro Football   \n",
       "1          0  2018-04-24 17:11:21       Unknown   \n",
       "2          0  2018-04-24 14:58:44       Unknown   \n",
       "3          0  2018-04-24 14:35:57        Europe   \n",
       "4          0  2018-04-24 14:21:21        Canada   \n",
       "\n",
       "                                             snippet              source  \\\n",
       "0  “I understand that they could meet with us, pa...  The New York Times   \n",
       "1  The agency plans to publish a new regulation T...  The New York Times   \n",
       "2  What’s it like to eat at the second incarnatio...  The New York Times   \n",
       "3  President Trump welcomed President Emmanuel Ma...  The New York Times   \n",
       "4  Alek Minassian, 25, a resident of Toronto’s Ri...  The New York Times   \n",
       "\n",
       "  typeOfMaterial                                             webURL  \n",
       "0           News  https://www.nytimes.com/2018/04/24/sports/foot...  \n",
       "1           News  https://www.nytimes.com/2018/04/24/climate/epa...  \n",
       "2           News  https://www.nytimes.com/2018/04/24/dining/noma...  \n",
       "3           News  https://www.nytimes.com/2018/04/24/world/europ...  \n",
       "4           News  https://www.nytimes.com/2018/04/24/world/canad...  "
      ]
     },
     "execution_count": 2,
     "metadata": {},
     "output_type": "execute_result"
    }
   ],
   "source": [
    "df = pd.read_csv('C:/MyData/03_Kaggle Data/NewyorkTimes/ArticlesApril2018.csv')\n",
    "df.head()"
   ]
  },
  {
   "cell_type": "code",
   "execution_count": 3,
   "id": "c22e080f",
   "metadata": {},
   "outputs": [
    {
     "name": "stdout",
     "output_type": "stream",
     "text": [
      "열의 개수:  15\n",
      "Index(['articleID', 'articleWordCount', 'byline', 'documentType', 'headline',\n",
      "       'keywords', 'multimedia', 'newDesk', 'printPage', 'pubDate',\n",
      "       'sectionName', 'snippet', 'source', 'typeOfMaterial', 'webURL'],\n",
      "      dtype='object')\n"
     ]
    }
   ],
   "source": [
    "print('열의 개수: ',len(df.columns))\n",
    "print(df.columns)"
   ]
  },
  {
   "cell_type": "code",
   "execution_count": 4,
   "id": "89b5e9d4",
   "metadata": {},
   "outputs": [
    {
     "name": "stdout",
     "output_type": "stream",
     "text": [
      "False\n"
     ]
    }
   ],
   "source": [
    "print(df['headline'].isnull().values.any())"
   ]
  },
  {
   "cell_type": "code",
   "execution_count": 5,
   "id": "3f2113f8",
   "metadata": {},
   "outputs": [
    {
     "data": {
      "text/plain": [
       "['Former N.F.L. Cheerleaders’ Settlement Offer: $1 and a Meeting With Goodell',\n",
       " 'E.P.A. to Unveil a New Rule. Its Effect: Less Science in Policymaking.',\n",
       " 'The New Noma, Explained',\n",
       " 'Unknown',\n",
       " 'Unknown']"
      ]
     },
     "execution_count": 5,
     "metadata": {},
     "output_type": "execute_result"
    }
   ],
   "source": [
    "headline = []\n",
    "# 헤드라인의 값들을 리스트로 저장\n",
    "headline.extend(list(df.headline.values)) \n",
    "headline[:5]"
   ]
  },
  {
   "cell_type": "code",
   "execution_count": 6,
   "id": "06f96570",
   "metadata": {},
   "outputs": [
    {
     "name": "stdout",
     "output_type": "stream",
     "text": [
      "총 샘플의 개수 : 1324\n"
     ]
    }
   ],
   "source": [
    "print('총 샘플의 개수 : {}'.format(len(headline)))"
   ]
  },
  {
   "cell_type": "code",
   "execution_count": 7,
   "id": "15365a35",
   "metadata": {},
   "outputs": [
    {
     "name": "stdout",
     "output_type": "stream",
     "text": [
      "노이즈값 제거 후 샘플의 개수 : 1214\n"
     ]
    }
   ],
   "source": [
    "headline = [word for word in headline if word != \"Unknown\"]\n",
    "print('노이즈값 제거 후 샘플의 개수 : {}'.format(len(headline)))"
   ]
  },
  {
   "cell_type": "code",
   "execution_count": 8,
   "id": "0ddce7e9",
   "metadata": {},
   "outputs": [
    {
     "data": {
      "text/plain": [
       "['Former N.F.L. Cheerleaders’ Settlement Offer: $1 and a Meeting With Goodell',\n",
       " 'E.P.A. to Unveil a New Rule. Its Effect: Less Science in Policymaking.',\n",
       " 'The New Noma, Explained',\n",
       " 'How a Bag of Texas Dirt  Became a Times Tradition',\n",
       " 'Is School a Place for Self-Expression?']"
      ]
     },
     "execution_count": 8,
     "metadata": {},
     "output_type": "execute_result"
    }
   ],
   "source": [
    "headline[:5]"
   ]
  },
  {
   "cell_type": "code",
   "execution_count": 9,
   "id": "0a380b73",
   "metadata": {},
   "outputs": [
    {
     "data": {
      "text/plain": [
       "['former nfl cheerleaders settlement offer 1 and a meeting with goodell',\n",
       " 'epa to unveil a new rule its effect less science in policymaking',\n",
       " 'the new noma explained',\n",
       " 'how a bag of texas dirt  became a times tradition',\n",
       " 'is school a place for selfexpression']"
      ]
     },
     "execution_count": 9,
     "metadata": {},
     "output_type": "execute_result"
    }
   ],
   "source": [
    "def repreprocessing(raw_sentence):\n",
    "    preproceseed_sentence = raw_sentence.encode(\"utf8\").decode(\"ascii\",'ignore')\n",
    "    # 구두점 제거와 동시에 소문자화\n",
    "    return ''.join(word for word in preproceseed_sentence if word not in punctuation).lower()\n",
    "\n",
    "preprocessed_headline = [repreprocessing(x) for x in headline]\n",
    "preprocessed_headline[:5]"
   ]
  },
  {
   "cell_type": "code",
   "execution_count": 10,
   "id": "524fe206",
   "metadata": {},
   "outputs": [
    {
     "name": "stdout",
     "output_type": "stream",
     "text": [
      "단어 집합의 크기 : 3494\n"
     ]
    }
   ],
   "source": [
    "tokenizer = Tokenizer()\n",
    "tokenizer.fit_on_texts(preprocessed_headline)\n",
    "vocab_size = len(tokenizer.word_index) + 1\n",
    "print('단어 집합의 크기 : %d' % vocab_size)"
   ]
  },
  {
   "cell_type": "code",
   "execution_count": 11,
   "id": "0d7fb334",
   "metadata": {},
   "outputs": [
    {
     "data": {
      "text/plain": [
       "[[99, 269],\n",
       " [99, 269, 371],\n",
       " [99, 269, 371, 1115],\n",
       " [99, 269, 371, 1115, 582],\n",
       " [99, 269, 371, 1115, 582, 52],\n",
       " [99, 269, 371, 1115, 582, 52, 7],\n",
       " [99, 269, 371, 1115, 582, 52, 7, 2],\n",
       " [99, 269, 371, 1115, 582, 52, 7, 2, 372],\n",
       " [99, 269, 371, 1115, 582, 52, 7, 2, 372, 10],\n",
       " [99, 269, 371, 1115, 582, 52, 7, 2, 372, 10, 1116],\n",
       " [100, 3]]"
      ]
     },
     "execution_count": 11,
     "metadata": {},
     "output_type": "execute_result"
    }
   ],
   "source": [
    "sequences = list()\n",
    "\n",
    "for sentence in preprocessed_headline:\n",
    "\n",
    "    # 각 샘플에 대한 정수 인코딩\n",
    "    encoded = tokenizer.texts_to_sequences([sentence])[0] \n",
    "    for i in range(1, len(encoded)):\n",
    "        sequence = encoded[:i+1]\n",
    "        sequences.append(sequence)\n",
    "\n",
    "sequences[:11]"
   ]
  },
  {
   "cell_type": "code",
   "execution_count": 12,
   "id": "de107eab",
   "metadata": {},
   "outputs": [
    {
     "name": "stdout",
     "output_type": "stream",
     "text": [
      "빈도수 상위 582번 단어 : offer\n"
     ]
    }
   ],
   "source": [
    "index_to_word = {}\n",
    "for key, value in tokenizer.word_index.items(): # 인덱스를 단어로 바꾸기 위해 index_to_word를 생성\n",
    "    index_to_word[value] = key\n",
    "\n",
    "print('빈도수 상위 582번 단어 : {}'.format(index_to_word[582]))"
   ]
  },
  {
   "cell_type": "code",
   "execution_count": 13,
   "id": "c913d6fd",
   "metadata": {},
   "outputs": [
    {
     "name": "stdout",
     "output_type": "stream",
     "text": [
      "샘플의 최대 길이 : 24\n"
     ]
    }
   ],
   "source": [
    "max_len = max(len(l) for l in sequences)\n",
    "print('샘플의 최대 길이 : {}'.format(max_len))"
   ]
  },
  {
   "cell_type": "code",
   "execution_count": 14,
   "id": "4f410f11",
   "metadata": {},
   "outputs": [
    {
     "name": "stdout",
     "output_type": "stream",
     "text": [
      "[[   0    0    0    0    0    0    0    0    0    0    0    0    0    0\n",
      "     0    0    0    0    0    0    0    0   99  269]\n",
      " [   0    0    0    0    0    0    0    0    0    0    0    0    0    0\n",
      "     0    0    0    0    0    0    0   99  269  371]\n",
      " [   0    0    0    0    0    0    0    0    0    0    0    0    0    0\n",
      "     0    0    0    0    0    0   99  269  371 1115]]\n"
     ]
    }
   ],
   "source": [
    "sequences = pad_sequences(sequences, maxlen=max_len, padding='pre')\n",
    "print(sequences[:3])"
   ]
  },
  {
   "cell_type": "code",
   "execution_count": 15,
   "id": "26ed5293",
   "metadata": {},
   "outputs": [],
   "source": [
    "sequences = np.array(sequences)\n",
    "X = sequences[:,:-1]\n",
    "y = sequences[:,-1]"
   ]
  },
  {
   "cell_type": "code",
   "execution_count": 16,
   "id": "adca6861",
   "metadata": {},
   "outputs": [
    {
     "name": "stdout",
     "output_type": "stream",
     "text": [
      "[[  0   0   0   0   0   0   0   0   0   0   0   0   0   0   0   0   0   0\n",
      "    0   0   0   0  99]\n",
      " [  0   0   0   0   0   0   0   0   0   0   0   0   0   0   0   0   0   0\n",
      "    0   0   0  99 269]\n",
      " [  0   0   0   0   0   0   0   0   0   0   0   0   0   0   0   0   0   0\n",
      "    0   0  99 269 371]]\n"
     ]
    }
   ],
   "source": [
    "print(X[:3])"
   ]
  },
  {
   "cell_type": "code",
   "execution_count": 17,
   "id": "4bcc6586",
   "metadata": {},
   "outputs": [
    {
     "name": "stdout",
     "output_type": "stream",
     "text": [
      "[ 269  371 1115]\n"
     ]
    }
   ],
   "source": [
    "print(y[:3])"
   ]
  },
  {
   "cell_type": "code",
   "execution_count": 18,
   "id": "26276e86",
   "metadata": {},
   "outputs": [],
   "source": [
    "y = to_categorical(y, num_classes=vocab_size)"
   ]
  },
  {
   "cell_type": "code",
   "execution_count": 19,
   "id": "bd7b2e18",
   "metadata": {},
   "outputs": [
    {
     "name": "stdout",
     "output_type": "stream",
     "text": [
      "Epoch 1/200\n",
      "244/244 - 6s - loss: 7.6381 - accuracy: 0.0291 - 6s/epoch - 23ms/step\n",
      "Epoch 2/200\n",
      "244/244 - 1s - loss: 7.1169 - accuracy: 0.0318 - 1s/epoch - 6ms/step\n",
      "Epoch 3/200\n",
      "244/244 - 1s - loss: 6.9739 - accuracy: 0.0334 - 1s/epoch - 6ms/step\n",
      "Epoch 4/200\n",
      "244/244 - 1s - loss: 6.8457 - accuracy: 0.0418 - 1s/epoch - 6ms/step\n",
      "Epoch 5/200\n",
      "244/244 - 1s - loss: 6.6998 - accuracy: 0.0432 - 1s/epoch - 6ms/step\n",
      "Epoch 6/200\n",
      "244/244 - 1s - loss: 6.5388 - accuracy: 0.0486 - 1s/epoch - 6ms/step\n",
      "Epoch 7/200\n",
      "244/244 - 1s - loss: 6.3531 - accuracy: 0.0509 - 1s/epoch - 6ms/step\n",
      "Epoch 8/200\n",
      "244/244 - 1s - loss: 6.1515 - accuracy: 0.0566 - 1s/epoch - 6ms/step\n",
      "Epoch 9/200\n",
      "244/244 - 1s - loss: 5.9562 - accuracy: 0.0606 - 1s/epoch - 6ms/step\n",
      "Epoch 10/200\n",
      "244/244 - 1s - loss: 5.7680 - accuracy: 0.0641 - 1s/epoch - 6ms/step\n",
      "Epoch 11/200\n",
      "244/244 - 1s - loss: 5.5918 - accuracy: 0.0683 - 1s/epoch - 6ms/step\n",
      "Epoch 12/200\n",
      "244/244 - 1s - loss: 5.4190 - accuracy: 0.0745 - 1s/epoch - 6ms/step\n",
      "Epoch 13/200\n",
      "244/244 - 1s - loss: 5.2587 - accuracy: 0.0773 - 1s/epoch - 6ms/step\n",
      "Epoch 14/200\n",
      "244/244 - 1s - loss: 5.1053 - accuracy: 0.0839 - 1s/epoch - 6ms/step\n",
      "Epoch 15/200\n",
      "244/244 - 1s - loss: 4.9588 - accuracy: 0.0974 - 1s/epoch - 6ms/step\n",
      "Epoch 16/200\n",
      "244/244 - 1s - loss: 4.8182 - accuracy: 0.1035 - 1s/epoch - 6ms/step\n",
      "Epoch 17/200\n",
      "244/244 - 1s - loss: 4.6843 - accuracy: 0.1182 - 1s/epoch - 6ms/step\n",
      "Epoch 18/200\n",
      "244/244 - 1s - loss: 4.5557 - accuracy: 0.1334 - 1s/epoch - 6ms/step\n",
      "Epoch 19/200\n",
      "244/244 - 1s - loss: 4.4311 - accuracy: 0.1446 - 1s/epoch - 6ms/step\n",
      "Epoch 20/200\n",
      "244/244 - 1s - loss: 4.3097 - accuracy: 0.1652 - 1s/epoch - 6ms/step\n",
      "Epoch 21/200\n",
      "244/244 - 1s - loss: 4.1935 - accuracy: 0.1795 - 1s/epoch - 6ms/step\n",
      "Epoch 22/200\n",
      "244/244 - 1s - loss: 4.0825 - accuracy: 0.1962 - 1s/epoch - 6ms/step\n",
      "Epoch 23/200\n",
      "244/244 - 1s - loss: 3.9733 - accuracy: 0.2149 - 1s/epoch - 6ms/step\n",
      "Epoch 24/200\n",
      "244/244 - 1s - loss: 3.8656 - accuracy: 0.2297 - 1s/epoch - 6ms/step\n",
      "Epoch 25/200\n",
      "244/244 - 1s - loss: 3.7675 - accuracy: 0.2427 - 1s/epoch - 6ms/step\n",
      "Epoch 26/200\n",
      "244/244 - 1s - loss: 3.6663 - accuracy: 0.2618 - 1s/epoch - 6ms/step\n",
      "Epoch 27/200\n",
      "244/244 - 1s - loss: 3.5723 - accuracy: 0.2823 - 1s/epoch - 6ms/step\n",
      "Epoch 28/200\n",
      "244/244 - 1s - loss: 3.4807 - accuracy: 0.2983 - 1s/epoch - 6ms/step\n",
      "Epoch 29/200\n",
      "244/244 - 1s - loss: 3.3929 - accuracy: 0.3130 - 1s/epoch - 6ms/step\n",
      "Epoch 30/200\n",
      "244/244 - 1s - loss: 3.3089 - accuracy: 0.3310 - 1s/epoch - 6ms/step\n",
      "Epoch 31/200\n",
      "244/244 - 1s - loss: 3.2261 - accuracy: 0.3436 - 1s/epoch - 6ms/step\n",
      "Epoch 32/200\n",
      "244/244 - 1s - loss: 3.1447 - accuracy: 0.3605 - 1s/epoch - 6ms/step\n",
      "Epoch 33/200\n",
      "244/244 - 1s - loss: 3.0668 - accuracy: 0.3743 - 1s/epoch - 6ms/step\n",
      "Epoch 34/200\n",
      "244/244 - 1s - loss: 2.9942 - accuracy: 0.3891 - 1s/epoch - 6ms/step\n",
      "Epoch 35/200\n",
      "244/244 - 1s - loss: 2.9229 - accuracy: 0.4025 - 1s/epoch - 6ms/step\n",
      "Epoch 36/200\n",
      "244/244 - 1s - loss: 2.8518 - accuracy: 0.4160 - 1s/epoch - 6ms/step\n",
      "Epoch 37/200\n",
      "244/244 - 1s - loss: 2.7829 - accuracy: 0.4271 - 1s/epoch - 6ms/step\n",
      "Epoch 38/200\n",
      "244/244 - 1s - loss: 2.7195 - accuracy: 0.4380 - 1s/epoch - 6ms/step\n",
      "Epoch 39/200\n",
      "244/244 - 1s - loss: 2.6532 - accuracy: 0.4530 - 1s/epoch - 6ms/step\n",
      "Epoch 40/200\n",
      "244/244 - 1s - loss: 2.5908 - accuracy: 0.4691 - 1s/epoch - 6ms/step\n",
      "Epoch 41/200\n",
      "244/244 - 1s - loss: 2.5304 - accuracy: 0.4788 - 1s/epoch - 6ms/step\n",
      "Epoch 42/200\n",
      "244/244 - 1s - loss: 2.4714 - accuracy: 0.4899 - 1s/epoch - 6ms/step\n",
      "Epoch 43/200\n",
      "244/244 - 1s - loss: 2.4127 - accuracy: 0.5045 - 1s/epoch - 6ms/step\n",
      "Epoch 44/200\n",
      "244/244 - 1s - loss: 2.3570 - accuracy: 0.5143 - 1s/epoch - 6ms/step\n",
      "Epoch 45/200\n",
      "244/244 - 1s - loss: 2.3024 - accuracy: 0.5302 - 1s/epoch - 6ms/step\n",
      "Epoch 46/200\n",
      "244/244 - 1s - loss: 2.2503 - accuracy: 0.5357 - 1s/epoch - 6ms/step\n",
      "Epoch 47/200\n",
      "244/244 - 1s - loss: 2.1961 - accuracy: 0.5467 - 1s/epoch - 6ms/step\n",
      "Epoch 48/200\n",
      "244/244 - 1s - loss: 2.1462 - accuracy: 0.5593 - 1s/epoch - 6ms/step\n",
      "Epoch 49/200\n",
      "244/244 - 1s - loss: 2.0965 - accuracy: 0.5722 - 1s/epoch - 6ms/step\n",
      "Epoch 50/200\n",
      "244/244 - 1s - loss: 2.0432 - accuracy: 0.5812 - 1s/epoch - 6ms/step\n",
      "Epoch 51/200\n",
      "244/244 - 1s - loss: 1.9978 - accuracy: 0.5912 - 1s/epoch - 6ms/step\n",
      "Epoch 52/200\n",
      "244/244 - 1s - loss: 1.9518 - accuracy: 0.5973 - 1s/epoch - 6ms/step\n",
      "Epoch 53/200\n",
      "244/244 - 1s - loss: 1.9040 - accuracy: 0.6084 - 1s/epoch - 6ms/step\n",
      "Epoch 54/200\n",
      "244/244 - 1s - loss: 1.8616 - accuracy: 0.6210 - 1s/epoch - 6ms/step\n",
      "Epoch 55/200\n",
      "244/244 - 1s - loss: 1.8154 - accuracy: 0.6309 - 1s/epoch - 6ms/step\n",
      "Epoch 56/200\n",
      "244/244 - 1s - loss: 1.7709 - accuracy: 0.6399 - 1s/epoch - 6ms/step\n",
      "Epoch 57/200\n",
      "244/244 - 1s - loss: 1.7299 - accuracy: 0.6499 - 1s/epoch - 6ms/step\n",
      "Epoch 58/200\n",
      "244/244 - 1s - loss: 1.6886 - accuracy: 0.6604 - 1s/epoch - 6ms/step\n",
      "Epoch 59/200\n",
      "244/244 - 1s - loss: 1.6453 - accuracy: 0.6660 - 1s/epoch - 6ms/step\n",
      "Epoch 60/200\n",
      "244/244 - 1s - loss: 1.6082 - accuracy: 0.6787 - 1s/epoch - 6ms/step\n",
      "Epoch 61/200\n",
      "244/244 - 1s - loss: 1.5688 - accuracy: 0.6856 - 1s/epoch - 6ms/step\n",
      "Epoch 62/200\n",
      "244/244 - 1s - loss: 1.5292 - accuracy: 0.6981 - 1s/epoch - 6ms/step\n",
      "Epoch 63/200\n",
      "244/244 - 1s - loss: 1.4957 - accuracy: 0.7008 - 1s/epoch - 6ms/step\n",
      "Epoch 64/200\n",
      "244/244 - 1s - loss: 1.4550 - accuracy: 0.7074 - 1s/epoch - 6ms/step\n",
      "Epoch 65/200\n",
      "244/244 - 1s - loss: 1.4213 - accuracy: 0.7152 - 1s/epoch - 6ms/step\n",
      "Epoch 66/200\n",
      "244/244 - 1s - loss: 1.3842 - accuracy: 0.7238 - 1s/epoch - 6ms/step\n",
      "Epoch 67/200\n",
      "244/244 - 1s - loss: 1.3518 - accuracy: 0.7314 - 1s/epoch - 6ms/step\n",
      "Epoch 68/200\n",
      "244/244 - 1s - loss: 1.3206 - accuracy: 0.7360 - 1s/epoch - 6ms/step\n",
      "Epoch 69/200\n",
      "244/244 - 1s - loss: 1.2822 - accuracy: 0.7470 - 1s/epoch - 6ms/step\n",
      "Epoch 70/200\n",
      "244/244 - 1s - loss: 1.2537 - accuracy: 0.7539 - 1s/epoch - 6ms/step\n",
      "Epoch 71/200\n",
      "244/244 - 1s - loss: 1.2203 - accuracy: 0.7616 - 1s/epoch - 6ms/step\n",
      "Epoch 72/200\n",
      "244/244 - 1s - loss: 1.1914 - accuracy: 0.7662 - 1s/epoch - 6ms/step\n",
      "Epoch 73/200\n",
      "244/244 - 1s - loss: 1.1625 - accuracy: 0.7691 - 1s/epoch - 6ms/step\n",
      "Epoch 74/200\n",
      "244/244 - 1s - loss: 1.1341 - accuracy: 0.7748 - 1s/epoch - 6ms/step\n",
      "Epoch 75/200\n",
      "244/244 - 1s - loss: 1.1028 - accuracy: 0.7851 - 1s/epoch - 6ms/step\n",
      "Epoch 76/200\n",
      "244/244 - 1s - loss: 1.0744 - accuracy: 0.7902 - 1s/epoch - 6ms/step\n",
      "Epoch 77/200\n",
      "244/244 - 1s - loss: 1.0477 - accuracy: 0.7950 - 1s/epoch - 6ms/step\n",
      "Epoch 78/200\n",
      "244/244 - 1s - loss: 1.0232 - accuracy: 0.8028 - 1s/epoch - 6ms/step\n",
      "Epoch 79/200\n",
      "244/244 - 1s - loss: 0.9989 - accuracy: 0.8046 - 1s/epoch - 6ms/step\n",
      "Epoch 80/200\n",
      "244/244 - 1s - loss: 0.9721 - accuracy: 0.8089 - 1s/epoch - 6ms/step\n",
      "Epoch 81/200\n",
      "244/244 - 1s - loss: 0.9476 - accuracy: 0.8131 - 1s/epoch - 6ms/step\n",
      "Epoch 82/200\n",
      "244/244 - 1s - loss: 0.9275 - accuracy: 0.8206 - 1s/epoch - 6ms/step\n",
      "Epoch 83/200\n",
      "244/244 - 1s - loss: 0.9007 - accuracy: 0.8260 - 1s/epoch - 6ms/step\n",
      "Epoch 84/200\n",
      "244/244 - 1s - loss: 0.8790 - accuracy: 0.8302 - 1s/epoch - 6ms/step\n",
      "Epoch 85/200\n",
      "244/244 - 1s - loss: 0.8582 - accuracy: 0.8312 - 1s/epoch - 6ms/step\n",
      "Epoch 86/200\n",
      "244/244 - 1s - loss: 0.8369 - accuracy: 0.8388 - 1s/epoch - 6ms/step\n",
      "Epoch 87/200\n",
      "244/244 - 1s - loss: 0.8123 - accuracy: 0.8448 - 1s/epoch - 6ms/step\n",
      "Epoch 88/200\n",
      "244/244 - 1s - loss: 0.7974 - accuracy: 0.8465 - 1s/epoch - 6ms/step\n",
      "Epoch 89/200\n",
      "244/244 - 1s - loss: 0.7865 - accuracy: 0.8481 - 1s/epoch - 6ms/step\n",
      "Epoch 90/200\n",
      "244/244 - 1s - loss: 0.7605 - accuracy: 0.8539 - 1s/epoch - 6ms/step\n",
      "Epoch 91/200\n",
      "244/244 - 1s - loss: 0.7366 - accuracy: 0.8554 - 1s/epoch - 6ms/step\n",
      "Epoch 92/200\n",
      "244/244 - 1s - loss: 0.7190 - accuracy: 0.8616 - 1s/epoch - 6ms/step\n",
      "Epoch 93/200\n",
      "244/244 - 1s - loss: 0.7020 - accuracy: 0.8653 - 1s/epoch - 6ms/step\n",
      "Epoch 94/200\n",
      "244/244 - 1s - loss: 0.6895 - accuracy: 0.8644 - 1s/epoch - 6ms/step\n",
      "Epoch 95/200\n",
      "244/244 - 1s - loss: 0.6771 - accuracy: 0.8703 - 1s/epoch - 6ms/step\n",
      "Epoch 96/200\n",
      "244/244 - 1s - loss: 0.6567 - accuracy: 0.8738 - 1s/epoch - 6ms/step\n",
      "Epoch 97/200\n",
      "244/244 - 1s - loss: 0.6410 - accuracy: 0.8730 - 1s/epoch - 6ms/step\n",
      "Epoch 98/200\n",
      "244/244 - 1s - loss: 0.6281 - accuracy: 0.8767 - 1s/epoch - 6ms/step\n",
      "Epoch 99/200\n",
      "244/244 - 1s - loss: 0.6096 - accuracy: 0.8824 - 1s/epoch - 6ms/step\n",
      "Epoch 100/200\n",
      "244/244 - 1s - loss: 0.5993 - accuracy: 0.8824 - 1s/epoch - 6ms/step\n"
     ]
    },
    {
     "name": "stdout",
     "output_type": "stream",
     "text": [
      "Epoch 101/200\n",
      "244/244 - 1s - loss: 0.5861 - accuracy: 0.8848 - 1s/epoch - 6ms/step\n",
      "Epoch 102/200\n",
      "244/244 - 1s - loss: 0.5713 - accuracy: 0.8871 - 1s/epoch - 6ms/step\n",
      "Epoch 103/200\n",
      "244/244 - 1s - loss: 0.5582 - accuracy: 0.8895 - 1s/epoch - 6ms/step\n",
      "Epoch 104/200\n",
      "244/244 - 1s - loss: 0.5458 - accuracy: 0.8920 - 1s/epoch - 6ms/step\n",
      "Epoch 105/200\n",
      "244/244 - 1s - loss: 0.5338 - accuracy: 0.8949 - 1s/epoch - 6ms/step\n",
      "Epoch 106/200\n",
      "244/244 - 1s - loss: 0.5218 - accuracy: 0.8947 - 1s/epoch - 6ms/step\n",
      "Epoch 107/200\n",
      "244/244 - 1s - loss: 0.5126 - accuracy: 0.8967 - 1s/epoch - 6ms/step\n",
      "Epoch 108/200\n",
      "244/244 - 1s - loss: 0.5033 - accuracy: 0.8972 - 1s/epoch - 6ms/step\n",
      "Epoch 109/200\n",
      "244/244 - 1s - loss: 0.4978 - accuracy: 0.8979 - 1s/epoch - 6ms/step\n",
      "Epoch 110/200\n",
      "244/244 - 1s - loss: 0.4959 - accuracy: 0.8976 - 1s/epoch - 6ms/step\n",
      "Epoch 111/200\n",
      "244/244 - 1s - loss: 0.4956 - accuracy: 0.8995 - 1s/epoch - 6ms/step\n",
      "Epoch 112/200\n",
      "244/244 - 1s - loss: 0.4668 - accuracy: 0.9030 - 1s/epoch - 6ms/step\n",
      "Epoch 113/200\n",
      "244/244 - 1s - loss: 0.4542 - accuracy: 0.9029 - 1s/epoch - 6ms/step\n",
      "Epoch 114/200\n",
      "244/244 - 1s - loss: 0.4433 - accuracy: 0.9064 - 1s/epoch - 6ms/step\n",
      "Epoch 115/200\n",
      "244/244 - 1s - loss: 0.4363 - accuracy: 0.9049 - 1s/epoch - 6ms/step\n",
      "Epoch 116/200\n",
      "244/244 - 1s - loss: 0.4284 - accuracy: 0.9073 - 1s/epoch - 6ms/step\n",
      "Epoch 117/200\n",
      "244/244 - 1s - loss: 0.4226 - accuracy: 0.9072 - 1s/epoch - 6ms/step\n",
      "Epoch 118/200\n",
      "244/244 - 1s - loss: 0.4172 - accuracy: 0.9100 - 1s/epoch - 6ms/step\n",
      "Epoch 119/200\n",
      "244/244 - 1s - loss: 0.4103 - accuracy: 0.9107 - 1s/epoch - 6ms/step\n",
      "Epoch 120/200\n",
      "244/244 - 1s - loss: 0.4053 - accuracy: 0.9103 - 1s/epoch - 6ms/step\n",
      "Epoch 121/200\n",
      "244/244 - 1s - loss: 0.3959 - accuracy: 0.9103 - 1s/epoch - 6ms/step\n",
      "Epoch 122/200\n",
      "244/244 - 1s - loss: 0.3962 - accuracy: 0.9102 - 1s/epoch - 6ms/step\n",
      "Epoch 123/200\n",
      "244/244 - 1s - loss: 0.4147 - accuracy: 0.9075 - 1s/epoch - 6ms/step\n",
      "Epoch 124/200\n",
      "244/244 - 1s - loss: 0.3895 - accuracy: 0.9107 - 1s/epoch - 6ms/step\n",
      "Epoch 125/200\n",
      "244/244 - 1s - loss: 0.4347 - accuracy: 0.9018 - 1s/epoch - 6ms/step\n",
      "Epoch 126/200\n",
      "244/244 - 1s - loss: 0.3754 - accuracy: 0.9149 - 1s/epoch - 6ms/step\n",
      "Epoch 127/200\n",
      "244/244 - 1s - loss: 0.3625 - accuracy: 0.9135 - 1s/epoch - 6ms/step\n",
      "Epoch 128/200\n",
      "244/244 - 1s - loss: 0.3568 - accuracy: 0.9145 - 1s/epoch - 6ms/step\n",
      "Epoch 129/200\n",
      "244/244 - 1s - loss: 0.3524 - accuracy: 0.9141 - 1s/epoch - 6ms/step\n",
      "Epoch 130/200\n",
      "244/244 - 1s - loss: 0.3484 - accuracy: 0.9146 - 1s/epoch - 6ms/step\n",
      "Epoch 131/200\n",
      "244/244 - 1s - loss: 0.3448 - accuracy: 0.9141 - 1s/epoch - 6ms/step\n",
      "Epoch 132/200\n",
      "244/244 - 1s - loss: 0.3416 - accuracy: 0.9146 - 1s/epoch - 6ms/step\n",
      "Epoch 133/200\n",
      "244/244 - 1s - loss: 0.3395 - accuracy: 0.9158 - 1s/epoch - 6ms/step\n",
      "Epoch 134/200\n",
      "244/244 - 1s - loss: 0.3363 - accuracy: 0.9153 - 1s/epoch - 6ms/step\n",
      "Epoch 135/200\n",
      "244/244 - 1s - loss: 0.3329 - accuracy: 0.9173 - 1s/epoch - 6ms/step\n",
      "Epoch 136/200\n",
      "244/244 - 1s - loss: 0.3293 - accuracy: 0.9155 - 1s/epoch - 6ms/step\n",
      "Epoch 137/200\n",
      "244/244 - 1s - loss: 0.3271 - accuracy: 0.9152 - 1s/epoch - 6ms/step\n",
      "Epoch 138/200\n",
      "244/244 - 1s - loss: 0.3280 - accuracy: 0.9155 - 1s/epoch - 6ms/step\n",
      "Epoch 139/200\n",
      "244/244 - 1s - loss: 0.3253 - accuracy: 0.9154 - 1s/epoch - 6ms/step\n",
      "Epoch 140/200\n",
      "244/244 - 1s - loss: 0.3364 - accuracy: 0.9130 - 1s/epoch - 6ms/step\n",
      "Epoch 141/200\n",
      "244/244 - 1s - loss: 0.3434 - accuracy: 0.9152 - 1s/epoch - 6ms/step\n",
      "Epoch 142/200\n",
      "244/244 - 1s - loss: 0.3253 - accuracy: 0.9161 - 1s/epoch - 6ms/step\n",
      "Epoch 143/200\n",
      "244/244 - 1s - loss: 0.3163 - accuracy: 0.9158 - 1s/epoch - 6ms/step\n",
      "Epoch 144/200\n",
      "244/244 - 1s - loss: 0.3093 - accuracy: 0.9179 - 1s/epoch - 6ms/step\n",
      "Epoch 145/200\n",
      "244/244 - 1s - loss: 0.3054 - accuracy: 0.9172 - 1s/epoch - 6ms/step\n",
      "Epoch 146/200\n",
      "244/244 - 1s - loss: 0.3028 - accuracy: 0.9166 - 1s/epoch - 6ms/step\n",
      "Epoch 147/200\n",
      "244/244 - 1s - loss: 0.3006 - accuracy: 0.9179 - 1s/epoch - 6ms/step\n",
      "Epoch 148/200\n",
      "244/244 - 1s - loss: 0.2996 - accuracy: 0.9176 - 1s/epoch - 6ms/step\n",
      "Epoch 149/200\n",
      "244/244 - 1s - loss: 0.2981 - accuracy: 0.9181 - 1s/epoch - 6ms/step\n",
      "Epoch 150/200\n",
      "244/244 - 1s - loss: 0.2961 - accuracy: 0.9173 - 1s/epoch - 6ms/step\n",
      "Epoch 151/200\n",
      "244/244 - 1s - loss: 0.2945 - accuracy: 0.9161 - 1s/epoch - 6ms/step\n",
      "Epoch 152/200\n",
      "244/244 - 1s - loss: 0.2928 - accuracy: 0.9170 - 1s/epoch - 6ms/step\n",
      "Epoch 153/200\n",
      "244/244 - 1s - loss: 0.2924 - accuracy: 0.9159 - 1s/epoch - 6ms/step\n",
      "Epoch 154/200\n",
      "244/244 - 1s - loss: 0.2921 - accuracy: 0.9185 - 1s/epoch - 6ms/step\n",
      "Epoch 155/200\n",
      "244/244 - 1s - loss: 0.3181 - accuracy: 0.9138 - 1s/epoch - 6ms/step\n",
      "Epoch 156/200\n",
      "244/244 - 1s - loss: 0.3189 - accuracy: 0.9129 - 1s/epoch - 6ms/step\n",
      "Epoch 157/200\n",
      "244/244 - 1s - loss: 0.2994 - accuracy: 0.9154 - 1s/epoch - 6ms/step\n",
      "Epoch 158/200\n",
      "244/244 - 1s - loss: 0.2892 - accuracy: 0.9168 - 1s/epoch - 6ms/step\n",
      "Epoch 159/200\n",
      "244/244 - 1s - loss: 0.2839 - accuracy: 0.9168 - 1s/epoch - 6ms/step\n",
      "Epoch 160/200\n",
      "244/244 - 1s - loss: 0.2831 - accuracy: 0.9168 - 1s/epoch - 6ms/step\n",
      "Epoch 161/200\n",
      "244/244 - 1s - loss: 0.2809 - accuracy: 0.9163 - 1s/epoch - 6ms/step\n",
      "Epoch 162/200\n",
      "244/244 - 1s - loss: 0.2808 - accuracy: 0.9170 - 1s/epoch - 6ms/step\n",
      "Epoch 163/200\n",
      "244/244 - 1s - loss: 0.2804 - accuracy: 0.9166 - 1s/epoch - 6ms/step\n",
      "Epoch 164/200\n",
      "244/244 - 1s - loss: 0.2781 - accuracy: 0.9173 - 1s/epoch - 6ms/step\n",
      "Epoch 165/200\n",
      "244/244 - 1s - loss: 0.2780 - accuracy: 0.9162 - 1s/epoch - 6ms/step\n",
      "Epoch 166/200\n",
      "244/244 - 1s - loss: 0.2786 - accuracy: 0.9163 - 1s/epoch - 6ms/step\n",
      "Epoch 167/200\n",
      "244/244 - 1s - loss: 0.2776 - accuracy: 0.9167 - 1s/epoch - 6ms/step\n",
      "Epoch 168/200\n",
      "244/244 - 1s - loss: 0.2807 - accuracy: 0.9177 - 1s/epoch - 6ms/step\n",
      "Epoch 169/200\n",
      "244/244 - 1s - loss: 0.2945 - accuracy: 0.9143 - 1s/epoch - 6ms/step\n",
      "Epoch 170/200\n",
      "244/244 - 1s - loss: 0.3090 - accuracy: 0.9100 - 1s/epoch - 6ms/step\n",
      "Epoch 171/200\n",
      "244/244 - 1s - loss: 0.2849 - accuracy: 0.9153 - 1s/epoch - 6ms/step\n",
      "Epoch 172/200\n",
      "244/244 - 1s - loss: 0.2748 - accuracy: 0.9153 - 1s/epoch - 6ms/step\n",
      "Epoch 173/200\n",
      "244/244 - 1s - loss: 0.2731 - accuracy: 0.9164 - 1s/epoch - 6ms/step\n",
      "Epoch 174/200\n",
      "244/244 - 1s - loss: 0.2713 - accuracy: 0.9161 - 1s/epoch - 6ms/step\n",
      "Epoch 175/200\n",
      "244/244 - 1s - loss: 0.2720 - accuracy: 0.9158 - 1s/epoch - 6ms/step\n",
      "Epoch 176/200\n",
      "244/244 - 1s - loss: 0.2697 - accuracy: 0.9161 - 1s/epoch - 6ms/step\n",
      "Epoch 177/200\n",
      "244/244 - 1s - loss: 0.2701 - accuracy: 0.9185 - 1s/epoch - 6ms/step\n",
      "Epoch 178/200\n",
      "244/244 - 1s - loss: 0.2703 - accuracy: 0.9170 - 1s/epoch - 6ms/step\n",
      "Epoch 179/200\n",
      "244/244 - 1s - loss: 0.2696 - accuracy: 0.9167 - 1s/epoch - 6ms/step\n",
      "Epoch 180/200\n",
      "244/244 - 1s - loss: 0.2687 - accuracy: 0.9171 - 1s/epoch - 6ms/step\n",
      "Epoch 181/200\n",
      "244/244 - 1s - loss: 0.2728 - accuracy: 0.9175 - 1s/epoch - 6ms/step\n",
      "Epoch 182/200\n",
      "244/244 - 1s - loss: 0.3077 - accuracy: 0.9111 - 1s/epoch - 6ms/step\n",
      "Epoch 183/200\n",
      "244/244 - 1s - loss: 0.2864 - accuracy: 0.9130 - 1s/epoch - 6ms/step\n",
      "Epoch 184/200\n",
      "244/244 - 1s - loss: 0.2712 - accuracy: 0.9173 - 1s/epoch - 6ms/step\n",
      "Epoch 185/200\n",
      "244/244 - 1s - loss: 0.2676 - accuracy: 0.9171 - 1s/epoch - 6ms/step\n",
      "Epoch 186/200\n",
      "244/244 - 1s - loss: 0.2665 - accuracy: 0.9170 - 1s/epoch - 6ms/step\n",
      "Epoch 187/200\n",
      "244/244 - 1s - loss: 0.2655 - accuracy: 0.9172 - 1s/epoch - 6ms/step\n",
      "Epoch 188/200\n",
      "244/244 - 1s - loss: 0.2652 - accuracy: 0.9159 - 1s/epoch - 6ms/step\n",
      "Epoch 189/200\n",
      "244/244 - 1s - loss: 0.2652 - accuracy: 0.9167 - 1s/epoch - 6ms/step\n",
      "Epoch 190/200\n",
      "244/244 - 1s - loss: 0.2650 - accuracy: 0.9175 - 1s/epoch - 6ms/step\n",
      "Epoch 191/200\n",
      "244/244 - 1s - loss: 0.2655 - accuracy: 0.9155 - 1s/epoch - 6ms/step\n",
      "Epoch 192/200\n",
      "244/244 - 1s - loss: 0.2644 - accuracy: 0.9175 - 1s/epoch - 6ms/step\n",
      "Epoch 193/200\n",
      "244/244 - 1s - loss: 0.2641 - accuracy: 0.9167 - 1s/epoch - 6ms/step\n",
      "Epoch 194/200\n",
      "244/244 - 1s - loss: 0.2641 - accuracy: 0.9173 - 1s/epoch - 6ms/step\n",
      "Epoch 195/200\n",
      "244/244 - 1s - loss: 0.2639 - accuracy: 0.9162 - 1s/epoch - 6ms/step\n",
      "Epoch 196/200\n",
      "244/244 - 1s - loss: 0.2659 - accuracy: 0.9155 - 1s/epoch - 6ms/step\n",
      "Epoch 197/200\n",
      "244/244 - 1s - loss: 0.2844 - accuracy: 0.9141 - 1s/epoch - 6ms/step\n",
      "Epoch 198/200\n",
      "244/244 - 1s - loss: 0.2803 - accuracy: 0.9141 - 1s/epoch - 6ms/step\n",
      "Epoch 199/200\n",
      "244/244 - 1s - loss: 0.2673 - accuracy: 0.9152 - 1s/epoch - 6ms/step\n"
     ]
    },
    {
     "name": "stdout",
     "output_type": "stream",
     "text": [
      "Epoch 200/200\n",
      "244/244 - 1s - loss: 0.2622 - accuracy: 0.9164 - 1s/epoch - 6ms/step\n"
     ]
    },
    {
     "data": {
      "text/plain": [
       "<keras.callbacks.History at 0x1ed8097b708>"
      ]
     },
     "execution_count": 19,
     "metadata": {},
     "output_type": "execute_result"
    }
   ],
   "source": [
    "embedding_dim = 10\n",
    "hidden_units = 128\n",
    "\n",
    "model = Sequential()\n",
    "model.add(Embedding(vocab_size, embedding_dim))\n",
    "model.add(LSTM(hidden_units))\n",
    "model.add(Dense(vocab_size, activation='softmax'))\n",
    "model.compile(loss='categorical_crossentropy', optimizer='adam', metrics=['accuracy'])\n",
    "model.fit(X, y, epochs=200, verbose=2)"
   ]
  },
  {
   "cell_type": "code",
   "execution_count": 20,
   "id": "02bb088e",
   "metadata": {},
   "outputs": [],
   "source": [
    "def sentence_generation(model, tokenizer, current_word, n): # 모델, 토크나이저, 현재 단어, 반복할 횟수\n",
    "    init_word = current_word\n",
    "    sentence = ''\n",
    "\n",
    "    # n번 반복\n",
    "    for _ in range(n):\n",
    "        encoded = tokenizer.texts_to_sequences([current_word])[0]\n",
    "        encoded = pad_sequences([encoded], maxlen=max_len-1, padding='pre')\n",
    "\n",
    "        # 입력한 X(현재 단어)에 대해서 y를 예측하고 y(예측한 단어)를 result에 저장.\n",
    "        result = model.predict(encoded, verbose=0)\n",
    "        result = np.argmax(result, axis=1)\n",
    "\n",
    "        for word, index in tokenizer.word_index.items(): \n",
    "            # 만약 예측한 단어와 인덱스와 동일한 단어가 있다면\n",
    "            if index == result:\n",
    "                break\n",
    "\n",
    "        # 현재 단어 + ' ' + 예측 단어를 현재 단어로 변경\n",
    "        current_word = current_word + ' '  + word\n",
    "\n",
    "        # 예측 단어를 문장에 저장\n",
    "        sentence = sentence + ' ' + word\n",
    "\n",
    "    sentence = init_word + sentence\n",
    "    return sentence"
   ]
  },
  {
   "cell_type": "code",
   "execution_count": 21,
   "id": "9713c358",
   "metadata": {},
   "outputs": [
    {
     "name": "stdout",
     "output_type": "stream",
     "text": [
      "i cant jump ship from facebook yet them and the wild its his president zone in who warned need in the\n"
     ]
    }
   ],
   "source": [
    "print(sentence_generation(model, tokenizer, 'i', 20))"
   ]
  },
  {
   "cell_type": "code",
   "execution_count": 22,
   "id": "a56721d9",
   "metadata": {},
   "outputs": [
    {
     "name": "stdout",
     "output_type": "stream",
     "text": [
      "how to make facebook more accountable trumps security adviser is automakers\n"
     ]
    }
   ],
   "source": [
    "print(sentence_generation(model, tokenizer, 'how', 10))"
   ]
  },
  {
   "cell_type": "code",
   "execution_count": null,
   "id": "945c0fb0",
   "metadata": {},
   "outputs": [],
   "source": []
  }
 ],
 "metadata": {
  "kernelspec": {
   "display_name": "tensorflowPy37",
   "language": "python",
   "name": "tensorflowpy37"
  },
  "language_info": {
   "codemirror_mode": {
    "name": "ipython",
    "version": 3
   },
   "file_extension": ".py",
   "mimetype": "text/x-python",
   "name": "python",
   "nbconvert_exporter": "python",
   "pygments_lexer": "ipython3",
   "version": "3.7.13"
  }
 },
 "nbformat": 4,
 "nbformat_minor": 5
}
