{
 "cells": [
  {
   "cell_type": "code",
   "execution_count": 7,
   "id": "feca11bb",
   "metadata": {},
   "outputs": [],
   "source": [
    "import cv2\n",
    "import sys\n",
    "\n",
    "# 비디오 파일 열기\n",
    "cap = cv2.VideoCapture('C:/MyData/03_Kaggle Data/vtest.avi')\n",
    "\n",
    "if not cap.isOpened():\n",
    "    print('Video open failed!')\n",
    "    sys.exit()\n",
    "\n",
    "# 배경 차분 알고리즘 객체 생성\n",
    "bs = cv2.createBackgroundSubtractorMOG2()\n",
    "#bs = cv2.createBackgroundSubtractorKNN() # 배경영상이 업데이트 되는 형태가 다름\n",
    "#bs.setDetectShadows(False) # 그림자 검출 안하면 0과 255로 구성된 마스크 출력\n",
    "\n",
    "# 비디오 매 프레임 처리\n",
    "while True:\n",
    "    ret, frame = cap.read()\n",
    "\n",
    "    if not ret:\n",
    "        break\n",
    "\n",
    "    gray = cv2.cvtColor(frame, cv2.COLOR_BGR2GRAY)\n",
    "\n",
    "    # 0또는 128또는 255로 구성된 fgmask 생성\n",
    "    fgmask = bs.apply(gray)\n",
    "    # 배경 영상 받아오기\n",
    "    back = bs.getBackgroundImage()\n",
    "\n",
    "    # 레이블링을 이용하여 바운딩 박스 표시\n",
    "    cnt, _, stats, _ = cv2.connectedComponentsWithStats(fgmask)\n",
    "\n",
    "    for i in range(1, cnt):\n",
    "        x, y, w, h, s = stats[i]\n",
    "\n",
    "        if s < 80:\n",
    "            continue\n",
    "\n",
    "        cv2.rectangle(frame, (x, y, w, h), (0, 0, 255), 2)\n",
    "\n",
    "    cv2.imshow('frame', frame)\n",
    "    cv2.imshow('back', back)\n",
    "    cv2.imshow('fgmask', fgmask)\n",
    "\n",
    "    if cv2.waitKey(20) == 27:\n",
    "        break\n",
    "\n",
    "cap.release()\n",
    "cv2.destroyAllWindows()"
   ]
  },
  {
   "cell_type": "code",
   "execution_count": null,
   "id": "7d1248d1",
   "metadata": {},
   "outputs": [],
   "source": []
  }
 ],
 "metadata": {
  "kernelspec": {
   "display_name": "Python 3 (ipykernel)",
   "language": "python",
   "name": "python3"
  },
  "language_info": {
   "codemirror_mode": {
    "name": "ipython",
    "version": 3
   },
   "file_extension": ".py",
   "mimetype": "text/x-python",
   "name": "python",
   "nbconvert_exporter": "python",
   "pygments_lexer": "ipython3",
   "version": "3.9.12"
  }
 },
 "nbformat": 4,
 "nbformat_minor": 5
}
